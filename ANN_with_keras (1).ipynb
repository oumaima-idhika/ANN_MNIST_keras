{
  "cells": [
    {
      "cell_type": "markdown",
      "metadata": {
        "id": "BASTTdvgalc3"
      },
      "source": [
        "# Artificial Neural Networks with Keras"
      ]
    },
    {
      "cell_type": "markdown",
      "metadata": {
        "id": "-sVTYDsJaldI"
      },
      "source": [
        "<table align=\"left\">\n",
        "  <td>\n",
        "    <a target=\"_blank\" href=\"https://colab.research.google.com/github/AbdelMahm/INPT-2020/blob/master/Notebooks_DL/ANN_with_keras.ipynb\"><img src=\"https://colab.research.google.com/img/colab_favicon_256px.png\" />Run in Google Colab</a>\n",
        "  </td>\n",
        "</table>"
      ]
    },
    {
      "cell_type": "markdown",
      "metadata": {
        "id": "Qz10CRXraldM"
      },
      "source": [
        "# Setup"
      ]
    },
    {
      "cell_type": "code",
      "execution_count": 26,
      "metadata": {
        "id": "Z5Z7_jqvaldV"
      },
      "outputs": [],
      "source": [
        "# TensorFlow ≥2.0 is required\n",
        "import tensorflow as tf\n",
        "\n",
        "# Common imports\n",
        "import numpy as np\n",
        "import os\n",
        "\n",
        "# to make this notebook's output stable across runs\n",
        "np.random.seed(42)\n",
        "\n",
        "# To plot pretty figures\n",
        "%matplotlib inline\n",
        "import matplotlib as mpl\n",
        "import matplotlib.pyplot as plt\n",
        "mpl.rc('axes', labelsize=14)\n",
        "mpl.rc('xtick', labelsize=12)\n",
        "mpl.rc('ytick', labelsize=12)\n",
        "\n",
        "# Ignore useless warnings (see SciPy issue #5998)\n",
        "import warnings\n",
        "warnings.filterwarnings(action=\"ignore\", message=\"^internal gelsd\")"
      ]
    },
    {
      "cell_type": "markdown",
      "metadata": {
        "id": "w7HWdDyFaldZ"
      },
      "source": [
        "# Building an Image Classifier"
      ]
    },
    {
      "cell_type": "markdown",
      "metadata": {
        "id": "e11DwbrOaldb"
      },
      "source": [
        "First let's import TensorFlow and Keras."
      ]
    },
    {
      "cell_type": "code",
      "execution_count": 27,
      "metadata": {
        "collapsed": true,
        "id": "wdroBhX3aldf"
      },
      "outputs": [],
      "source": [
        "import tensorflow as tf\n",
        "from tensorflow import keras"
      ]
    },
    {
      "cell_type": "code",
      "execution_count": 28,
      "metadata": {
        "colab": {
          "base_uri": "https://localhost:8080/",
          "height": 35
        },
        "id": "_NESA_xgaldl",
        "outputId": "bf4bb7d9-b669-4b86-ff33-5c5687c7352d"
      },
      "outputs": [
        {
          "output_type": "execute_result",
          "data": {
            "text/plain": [
              "'2.8.0'"
            ],
            "application/vnd.google.colaboratory.intrinsic+json": {
              "type": "string"
            }
          },
          "metadata": {},
          "execution_count": 28
        }
      ],
      "source": [
        "tf.__version__"
      ]
    },
    {
      "cell_type": "markdown",
      "metadata": {
        "id": "SpJ7cec_aldo"
      },
      "source": [
        "Let's start by loading the fashion MNIST dataset. Keras has a number of functions to load popular datasets in `keras.datasets`. The dataset is already split for you between a training set and a test set, but it can be useful to split the training set further to have a validation set:"
      ]
    },
    {
      "cell_type": "code",
      "execution_count": 29,
      "metadata": {
        "collapsed": true,
        "id": "jP6PPczTaldq"
      },
      "outputs": [],
      "source": [
        "fashion_mnist = keras.datasets.fashion_mnist\n",
        "(X_train_full, y_train_full), (X_test, y_test) = fashion_mnist.load_data()"
      ]
    },
    {
      "cell_type": "markdown",
      "metadata": {
        "id": "ABQluHOIalds"
      },
      "source": [
        "The training set contains 60,000 grayscale images, each 28x28 pixels:"
      ]
    },
    {
      "cell_type": "code",
      "execution_count": 30,
      "metadata": {
        "colab": {
          "base_uri": "https://localhost:8080/"
        },
        "id": "hxzA7K4Kaldt",
        "outputId": "40b1485f-7264-454b-edee-0ef577b574cc"
      },
      "outputs": [
        {
          "output_type": "execute_result",
          "data": {
            "text/plain": [
              "(60000, 28, 28)"
            ]
          },
          "metadata": {},
          "execution_count": 30
        }
      ],
      "source": [
        "X_train_full.shape"
      ]
    },
    {
      "cell_type": "markdown",
      "metadata": {
        "id": "tFg18r7taldv"
      },
      "source": [
        "Each pixel intensity is represented as a byte (0 to 255):"
      ]
    },
    {
      "cell_type": "code",
      "execution_count": 31,
      "metadata": {
        "colab": {
          "base_uri": "https://localhost:8080/"
        },
        "id": "TGqUMCwValdw",
        "outputId": "1f1a3676-55f9-4cce-d2a2-a7d6bbf40c7b"
      },
      "outputs": [
        {
          "output_type": "execute_result",
          "data": {
            "text/plain": [
              "dtype('uint8')"
            ]
          },
          "metadata": {},
          "execution_count": 31
        }
      ],
      "source": [
        "X_train_full.dtype"
      ]
    },
    {
      "cell_type": "markdown",
      "metadata": {
        "id": "ERQxdMVwaldx"
      },
      "source": [
        "Let's split the full training set into a validation set and a (smaller) training set. We also scale the pixel intensities down to the 0-1 range and convert them to floats, by dividing by 255."
      ]
    },
    {
      "cell_type": "code",
      "execution_count": 32,
      "metadata": {
        "collapsed": true,
        "id": "h2l9BAB0ald0"
      },
      "outputs": [],
      "source": [
        "X_valid, X_train = X_train_full[:5000] / 255., X_train_full[5000:] / 255.\n",
        "y_valid, y_train = y_train_full[:5000], y_train_full[5000:]\n",
        "X_test = X_test / 255."
      ]
    },
    {
      "cell_type": "markdown",
      "metadata": {
        "id": "AVXpGdf9ald1"
      },
      "source": [
        "You can plot an image using Matplotlib's `imshow()` function, with a `'binary'`\n",
        " color map:"
      ]
    },
    {
      "cell_type": "code",
      "execution_count": 33,
      "metadata": {
        "colab": {
          "base_uri": "https://localhost:8080/",
          "height": 248
        },
        "id": "W9DPmW5Yald1",
        "outputId": "fd24453d-8678-4d98-ecfe-4c0d72648565"
      },
      "outputs": [
        {
          "output_type": "display_data",
          "data": {
            "text/plain": [
              "<Figure size 432x288 with 1 Axes>"
            ],
            "image/png": "[encoded data removed]"
          },
          "metadata": {
            "needs_background": "light"
          }
        }
      ],
      "source": [
        "plt.imshow(X_train[0], cmap=\"binary\")\n",
        "plt.axis('off')\n",
        "plt.show()"
      ]
    },
    {
      "cell_type": "markdown",
      "metadata": {
        "id": "XPecAp5kald2"
      },
      "source": [
        "The labels are the class IDs (represented as uint8), from 0 to 9:"
      ]
    },
    {
      "cell_type": "code",
      "execution_count": 34,
      "metadata": {
        "colab": {
          "base_uri": "https://localhost:8080/"
        },
        "id": "ni3iHDTcald3",
        "outputId": "09f3d41a-d340-4961-e602-76b32561d1e8"
      },
      "outputs": [
        {
          "output_type": "execute_result",
          "data": {
            "text/plain": [
              "array([4, 0, 7, ..., 3, 0, 5], dtype=uint8)"
            ]
          },
          "metadata": {},
          "execution_count": 34
        }
      ],
      "source": [
        "y_train"
      ]
    },
    {
      "cell_type": "markdown",
      "metadata": {
        "id": "nxi5GVEvald4"
      },
      "source": [
        "Here are the corresponding class names:"
      ]
    },
    {
      "cell_type": "code",
      "execution_count": 35,
      "metadata": {
        "collapsed": true,
        "id": "FpXqYr_dald4"
      },
      "outputs": [],
      "source": [
        "class_names = [\"T-shirt/top\", \"Trouser\", \"Pullover\", \"Dress\", \"Coat\",\n",
        "               \"Sandal\", \"Shirt\", \"Sneaker\", \"Bag\", \"Ankle boot\"]"
      ]
    },
    {
      "cell_type": "markdown",
      "metadata": {
        "id": "aE-HDoMaald5"
      },
      "source": [
        "So the first image in the training set is a coat:"
      ]
    },
    {
      "cell_type": "code",
      "execution_count": 36,
      "metadata": {
        "colab": {
          "base_uri": "https://localhost:8080/",
          "height": 35
        },
        "id": "MBXQWOW9ald6",
        "outputId": "b990924c-e0f9-43dc-acfd-fce32499dbf5"
      },
      "outputs": [
        {
          "output_type": "execute_result",
          "data": {
            "text/plain": [
              "'Coat'"
            ],
            "application/vnd.google.colaboratory.intrinsic+json": {
              "type": "string"
            }
          },
          "metadata": {},
          "execution_count": 36
        }
      ],
      "source": [
        "class_names[y_train[0]]"
      ]
    },
    {
      "cell_type": "markdown",
      "metadata": {
        "id": "TPC0Jcevald6"
      },
      "source": [
        "The validation set contains 5,000 images, and the test set contains 10,000 images:"
      ]
    },
    {
      "cell_type": "code",
      "execution_count": 37,
      "metadata": {
        "colab": {
          "base_uri": "https://localhost:8080/"
        },
        "id": "8iETpBabald7",
        "outputId": "f49991f4-a71c-4233-8246-b7d76f317d05"
      },
      "outputs": [
        {
          "output_type": "execute_result",
          "data": {
            "text/plain": [
              "(5000, 28, 28)"
            ]
          },
          "metadata": {},
          "execution_count": 37
        }
      ],
      "source": [
        "X_valid.shape"
      ]
    },
    {
      "cell_type": "code",
      "execution_count": 38,
      "metadata": {
        "colab": {
          "base_uri": "https://localhost:8080/"
        },
        "id": "lhcoQCj6ald7",
        "outputId": "64b61cc5-2628-4169-cf54-c1a07b329844"
      },
      "outputs": [
        {
          "output_type": "execute_result",
          "data": {
            "text/plain": [
              "(10000, 28, 28)"
            ]
          },
          "metadata": {},
          "execution_count": 38
        }
      ],
      "source": [
        "X_test.shape"
      ]
    },
    {
      "cell_type": "markdown",
      "metadata": {
        "id": "8R7cEZERald7"
      },
      "source": [
        "Let's take a look at a sample of the images in the dataset:"
      ]
    },
    {
      "cell_type": "code",
      "execution_count": 39,
      "metadata": {
        "colab": {
          "base_uri": "https://localhost:8080/",
          "height": 308
        },
        "id": "LhTcfBT2ald8",
        "outputId": "92a262b9-0a43-4e1f-9d88-efacd149fa81"
      },
      "outputs": [
        {
          "output_type": "display_data",
          "data": {
            "text/plain": [
              "<Figure size 864x345.6 with 40 Axes>"
            ],
            "image/png": "[encoded data removed]"
          },
          "metadata": {
            "needs_background": "light"
          }
        }
      ],
      "source": [
        "n_rows = 4\n",
        "n_cols = 10\n",
        "plt.figure(figsize=(n_cols * 1.2, n_rows * 1.2))\n",
        "for row in range(n_rows):\n",
        "    for col in range(n_cols):\n",
        "        index = n_cols * row + col\n",
        "        plt.subplot(n_rows, n_cols, index + 1)\n",
        "        plt.imshow(X_train[index], cmap=\"binary\", interpolation=\"nearest\")\n",
        "        plt.axis('off')\n",
        "        plt.title(class_names[y_train[index]], fontsize=12)\n",
        "plt.subplots_adjust(wspace=0.2, hspace=0.5)\n",
        "plt.show()"
      ]
    },
    {
      "cell_type": "markdown",
      "metadata": {
        "id": "U91J2WkVald8"
      },
      "source": [
        "## Construct a Model"
      ]
    },
    {
      "cell_type": "code",
      "execution_count": 40,
      "metadata": {
        "collapsed": true,
        "id": "YlJ_zMICald9"
      },
      "outputs": [],
      "source": [
        "model = keras.models.Sequential()\n",
        "model.add(keras.layers.Flatten(input_shape=[28, 28]))\n",
        "model.add(keras.layers.Dense(300, activation=\"relu\"))\n",
        "model.add(keras.layers.Dense(100, activation=\"relu\"))\n",
        "model.add(keras.layers.Dense(10, activation=\"softmax\"))"
      ]
    },
    {
      "cell_type": "code",
      "execution_count": 41,
      "metadata": {
        "collapsed": true,
        "id": "d6Ee9Gosald9"
      },
      "outputs": [],
      "source": [
        "keras.backend.clear_session()\n",
        "np.random.seed(42)"
      ]
    },
    {
      "cell_type": "markdown",
      "metadata": {
        "id": "BJ08pmwfald9"
      },
      "source": [
        "### or using the folowing method"
      ]
    },
    {
      "cell_type": "code",
      "execution_count": 42,
      "metadata": {
        "collapsed": true,
        "id": "Ze5p7v_mald-"
      },
      "outputs": [],
      "source": [
        "model = keras.models.Sequential([\n",
        "    keras.layers.Flatten(input_shape=[28, 28]),\n",
        "    keras.layers.Dense(300, activation=\"relu\"),\n",
        "    keras.layers.Dense(100, activation=\"relu\"),\n",
        "    keras.layers.Dense(10, activation=\"softmax\")\n",
        "])"
      ]
    },
    {
      "cell_type": "code",
      "execution_count": 43,
      "metadata": {
        "colab": {
          "base_uri": "https://localhost:8080/"
        },
        "id": "478blKH6ald-",
        "outputId": "8d214faf-ab0f-42e4-f54e-487b7a9b645d"
      },
      "outputs": [
        {
          "output_type": "execute_result",
          "data": {
            "text/plain": [
              "[<keras.layers.core.flatten.Flatten at 0x7fee71c61fd0>,\n",
              " <keras.layers.core.dense.Dense at 0x7fee746c6550>,\n",
              " <keras.layers.core.dense.Dense at 0x7fee71c32d10>,\n",
              " <keras.layers.core.dense.Dense at 0x7fee71c32390>]"
            ]
          },
          "metadata": {},
          "execution_count": 43
        }
      ],
      "source": [
        "model.layers"
      ]
    },
    {
      "cell_type": "code",
      "execution_count": 44,
      "metadata": {
        "colab": {
          "base_uri": "https://localhost:8080/"
        },
        "id": "Xh-xRuDxald_",
        "outputId": "fcda1a23-6f89-4d0d-92ef-af918932e26b"
      },
      "outputs": [
        {
          "output_type": "stream",
          "name": "stdout",
          "text": [
            "Model: \"sequential\"\n",
            "_________________________________________________________________\n",
            " Layer (type)                Output Shape              Param #   \n",
            "=================================================================\n",
            " flatten (Flatten)           (None, 784)               0         \n",
            "                                                                 \n",
            " dense (Dense)               (None, 300)               235500    \n",
            "                                                                 \n",
            " dense_1 (Dense)             (None, 100)               30100     \n",
            "                                                                 \n",
            " dense_2 (Dense)             (None, 10)                1010      \n",
            "                                                                 \n",
            "=================================================================\n",
            "Total params: 266,610\n",
            "Trainable params: 266,610\n",
            "Non-trainable params: 0\n",
            "_________________________________________________________________\n"
          ]
        }
      ],
      "source": [
        "model.summary()"
      ]
    },
    {
      "cell_type": "code",
      "execution_count": 45,
      "metadata": {
        "collapsed": true,
        "id": "rzeF7e6Rald_"
      },
      "outputs": [],
      "source": [
        "#keras.utils.plot_model(model, \"my_mnist_model.png\", show_shapes=True)"
      ]
    },
    {
      "cell_type": "code",
      "execution_count": 46,
      "metadata": {
        "colab": {
          "base_uri": "https://localhost:8080/",
          "height": 35
        },
        "id": "mJbKxbTMald_",
        "outputId": "38fc657e-21ff-4b65-8cfa-326725ac5808"
      },
      "outputs": [
        {
          "output_type": "execute_result",
          "data": {
            "text/plain": [
              "'dense'"
            ],
            "application/vnd.google.colaboratory.intrinsic+json": {
              "type": "string"
            }
          },
          "metadata": {},
          "execution_count": 46
        }
      ],
      "source": [
        "hidden1 = model.layers[1]\n",
        "hidden1.name"
      ]
    },
    {
      "cell_type": "code",
      "execution_count": 47,
      "metadata": {
        "colab": {
          "base_uri": "https://localhost:8080/"
        },
        "id": "ZHtPiTGvaleA",
        "outputId": "70c86713-e77b-4bdf-c9c7-858cc59151f7"
      },
      "outputs": [
        {
          "output_type": "execute_result",
          "data": {
            "text/plain": [
              "True"
            ]
          },
          "metadata": {},
          "execution_count": 47
        }
      ],
      "source": [
        "model.get_layer(hidden1.name) is hidden1"
      ]
    },
    {
      "cell_type": "code",
      "execution_count": 48,
      "metadata": {
        "collapsed": true,
        "id": "8RGcKnyRaleA"
      },
      "outputs": [],
      "source": [
        "weights, biases = hidden1.get_weights()"
      ]
    },
    {
      "cell_type": "code",
      "execution_count": 49,
      "metadata": {
        "colab": {
          "base_uri": "https://localhost:8080/"
        },
        "id": "w6kQrStOaleB",
        "outputId": "1e5ebff3-7b6b-4ff1-a9f7-e9316cacc420"
      },
      "outputs": [
        {
          "output_type": "execute_result",
          "data": {
            "text/plain": [
              "array([[ 0.04172974, -0.04176679, -0.00471426, ..., -0.03348747,\n",
              "        -0.05809057,  0.05736974],\n",
              "       [-0.02208797,  0.05188626, -0.01447435, ...,  0.02840884,\n",
              "        -0.04373507, -0.04799863],\n",
              "       [ 0.0707265 , -0.01208209,  0.00699805, ...,  0.00683892,\n",
              "        -0.01865258, -0.05168005],\n",
              "       ...,\n",
              "       [ 0.06703116, -0.0308013 ,  0.0140986 , ..., -0.05642536,\n",
              "        -0.03243562, -0.04027011],\n",
              "       [-0.03425171, -0.03784234, -0.00905392, ..., -0.04147681,\n",
              "         0.05193378,  0.01966683],\n",
              "       [ 0.05209453,  0.03315327, -0.05369952, ..., -0.03836141,\n",
              "        -0.04105559,  0.06889965]], dtype=float32)"
            ]
          },
          "metadata": {},
          "execution_count": 49
        }
      ],
      "source": [
        "weights"
      ]
    },
    {
      "cell_type": "code",
      "execution_count": 50,
      "metadata": {
        "colab": {
          "base_uri": "https://localhost:8080/"
        },
        "id": "lnMOGVO2aleB",
        "outputId": "38ab7a23-9ca5-41a7-d55e-e8faad84d6d8"
      },
      "outputs": [
        {
          "output_type": "execute_result",
          "data": {
            "text/plain": [
              "(784, 300)"
            ]
          },
          "metadata": {},
          "execution_count": 50
        }
      ],
      "source": [
        "weights.shape"
      ]
    },
    {
      "cell_type": "code",
      "execution_count": 51,
      "metadata": {
        "colab": {
          "base_uri": "https://localhost:8080/"
        },
        "id": "JyTZhMQDaleB",
        "outputId": "3c90887c-b963-4846-a044-daa86cbb9fc1"
      },
      "outputs": [
        {
          "output_type": "execute_result",
          "data": {
            "text/plain": [
              "array([0., 0., 0., 0., 0., 0., 0., 0., 0., 0., 0., 0., 0., 0., 0., 0., 0.,\n",
              "       0., 0., 0., 0., 0., 0., 0., 0., 0., 0., 0., 0., 0., 0., 0., 0., 0.,\n",
              "       0., 0., 0., 0., 0., 0., 0., 0., 0., 0., 0., 0., 0., 0., 0., 0., 0.,\n",
              "       0., 0., 0., 0., 0., 0., 0., 0., 0., 0., 0., 0., 0., 0., 0., 0., 0.,\n",
              "       0., 0., 0., 0., 0., 0., 0., 0., 0., 0., 0., 0., 0., 0., 0., 0., 0.,\n",
              "       0., 0., 0., 0., 0., 0., 0., 0., 0., 0., 0., 0., 0., 0., 0., 0., 0.,\n",
              "       0., 0., 0., 0., 0., 0., 0., 0., 0., 0., 0., 0., 0., 0., 0., 0., 0.,\n",
              "       0., 0., 0., 0., 0., 0., 0., 0., 0., 0., 0., 0., 0., 0., 0., 0., 0.,\n",
              "       0., 0., 0., 0., 0., 0., 0., 0., 0., 0., 0., 0., 0., 0., 0., 0., 0.,\n",
              "       0., 0., 0., 0., 0., 0., 0., 0., 0., 0., 0., 0., 0., 0., 0., 0., 0.,\n",
              "       0., 0., 0., 0., 0., 0., 0., 0., 0., 0., 0., 0., 0., 0., 0., 0., 0.,\n",
              "       0., 0., 0., 0., 0., 0., 0., 0., 0., 0., 0., 0., 0., 0., 0., 0., 0.,\n",
              "       0., 0., 0., 0., 0., 0., 0., 0., 0., 0., 0., 0., 0., 0., 0., 0., 0.,\n",
              "       0., 0., 0., 0., 0., 0., 0., 0., 0., 0., 0., 0., 0., 0., 0., 0., 0.,\n",
              "       0., 0., 0., 0., 0., 0., 0., 0., 0., 0., 0., 0., 0., 0., 0., 0., 0.,\n",
              "       0., 0., 0., 0., 0., 0., 0., 0., 0., 0., 0., 0., 0., 0., 0., 0., 0.,\n",
              "       0., 0., 0., 0., 0., 0., 0., 0., 0., 0., 0., 0., 0., 0., 0., 0., 0.,\n",
              "       0., 0., 0., 0., 0., 0., 0., 0., 0., 0., 0.], dtype=float32)"
            ]
          },
          "metadata": {},
          "execution_count": 51
        }
      ],
      "source": [
        "biases"
      ]
    },
    {
      "cell_type": "code",
      "execution_count": 52,
      "metadata": {
        "colab": {
          "base_uri": "https://localhost:8080/"
        },
        "id": "cXMjrettaleC",
        "outputId": "8a073ef7-1c91-447a-d208-c47bf74af3fa"
      },
      "outputs": [
        {
          "output_type": "execute_result",
          "data": {
            "text/plain": [
              "(300,)"
            ]
          },
          "metadata": {},
          "execution_count": 52
        }
      ],
      "source": [
        "biases.shape"
      ]
    },
    {
      "cell_type": "markdown",
      "metadata": {
        "id": "ft-kApyKaleD"
      },
      "source": [
        "### Compile the Model\n",
        "Here you can chose the loss function, the optimizer, the performance metric, etc. check Keras documentation for further details."
      ]
    },
    {
      "cell_type": "code",
      "execution_count": 53,
      "metadata": {
        "collapsed": true,
        "id": "pjGk2X1paleD"
      },
      "outputs": [],
      "source": [
        "model.compile(loss=\"sparse_categorical_crossentropy\",\n",
        "              optimizer=\"sgd\",\n",
        "              metrics=[\"accuracy\"])"
      ]
    },
    {
      "cell_type": "markdown",
      "metadata": {
        "id": "VFT_GEt_aleD"
      },
      "source": [
        "This is equivalent to:"
      ]
    },
    {
      "cell_type": "markdown",
      "metadata": {
        "id": "_kWqysBRaleE"
      },
      "source": [
        "```python\n",
        "model.compile(loss=keras.losses.sparse_categorical_crossentropy,\n",
        "              optimizer=keras.optimizers.SGD(),\n",
        "              metrics=[keras.metrics.sparse_categorical_accuracy])\n",
        "```"
      ]
    },
    {
      "cell_type": "markdown",
      "metadata": {
        "id": "VSWdLkikaleE"
      },
      "source": [
        "### Train the model\n",
        "Here you can chose how many epochs you need and the batch size."
      ]
    },
    {
      "cell_type": "code",
      "execution_count": 54,
      "metadata": {
        "colab": {
          "base_uri": "https://localhost:8080/"
        },
        "id": "GIMSYnXnaleE",
        "outputId": "6c20d9a2-783e-4f29-cacc-d11937a8bfc2"
      },
      "outputs": [
        {
          "output_type": "stream",
          "name": "stdout",
          "text": [
            "Epoch 1/30\n",
            "1719/1719 [==============================] - 7s 4ms/step - loss: 0.7221 - accuracy: 0.7650 - val_loss: 0.4962 - val_accuracy: 0.8340\n",
            "Epoch 2/30\n",
            "1719/1719 [==============================] - 6s 4ms/step - loss: 0.4914 - accuracy: 0.8278 - val_loss: 0.4433 - val_accuracy: 0.8540\n",
            "Epoch 3/30\n",
            "1719/1719 [==============================] - 6s 4ms/step - loss: 0.4452 - accuracy: 0.8438 - val_loss: 0.4279 - val_accuracy: 0.8496\n",
            "Epoch 4/30\n",
            "1719/1719 [==============================] - 6s 4ms/step - loss: 0.4177 - accuracy: 0.8533 - val_loss: 0.4196 - val_accuracy: 0.8538\n",
            "Epoch 5/30\n",
            "1719/1719 [==============================] - 6s 3ms/step - loss: 0.3981 - accuracy: 0.8603 - val_loss: 0.4152 - val_accuracy: 0.8578\n",
            "Epoch 6/30\n",
            "1719/1719 [==============================] - 6s 4ms/step - loss: 0.3814 - accuracy: 0.8655 - val_loss: 0.3822 - val_accuracy: 0.8700\n",
            "Epoch 7/30\n",
            "1719/1719 [==============================] - 6s 4ms/step - loss: 0.3666 - accuracy: 0.8695 - val_loss: 0.3636 - val_accuracy: 0.8726\n",
            "Epoch 8/30\n",
            "1719/1719 [==============================] - 6s 4ms/step - loss: 0.3550 - accuracy: 0.8747 - val_loss: 0.3776 - val_accuracy: 0.8676\n",
            "Epoch 9/30\n",
            "1719/1719 [==============================] - 6s 4ms/step - loss: 0.3433 - accuracy: 0.8781 - val_loss: 0.3713 - val_accuracy: 0.8680\n",
            "Epoch 10/30\n",
            "1719/1719 [==============================] - 6s 4ms/step - loss: 0.3340 - accuracy: 0.8811 - val_loss: 0.3525 - val_accuracy: 0.8760\n",
            "Epoch 11/30\n",
            "1719/1719 [==============================] - 6s 4ms/step - loss: 0.3246 - accuracy: 0.8848 - val_loss: 0.3446 - val_accuracy: 0.8786\n",
            "Epoch 12/30\n",
            "1719/1719 [==============================] - 6s 4ms/step - loss: 0.3168 - accuracy: 0.8873 - val_loss: 0.3288 - val_accuracy: 0.8814\n",
            "Epoch 13/30\n",
            "1719/1719 [==============================] - 6s 3ms/step - loss: 0.3093 - accuracy: 0.8885 - val_loss: 0.3237 - val_accuracy: 0.8820\n",
            "Epoch 14/30\n",
            "1719/1719 [==============================] - 6s 4ms/step - loss: 0.3023 - accuracy: 0.8919 - val_loss: 0.3335 - val_accuracy: 0.8792\n",
            "Epoch 15/30\n",
            "1719/1719 [==============================] - 6s 4ms/step - loss: 0.2949 - accuracy: 0.8945 - val_loss: 0.3197 - val_accuracy: 0.8862\n",
            "Epoch 16/30\n",
            "1719/1719 [==============================] - 6s 4ms/step - loss: 0.2889 - accuracy: 0.8961 - val_loss: 0.3169 - val_accuracy: 0.8850\n",
            "Epoch 17/30\n",
            "1719/1719 [==============================] - 6s 4ms/step - loss: 0.2818 - accuracy: 0.8985 - val_loss: 0.3182 - val_accuracy: 0.8848\n",
            "Epoch 18/30\n",
            "1719/1719 [==============================] - 6s 3ms/step - loss: 0.2772 - accuracy: 0.9004 - val_loss: 0.3372 - val_accuracy: 0.8784\n",
            "Epoch 19/30\n",
            "1719/1719 [==============================] - 6s 3ms/step - loss: 0.2709 - accuracy: 0.9016 - val_loss: 0.3326 - val_accuracy: 0.8792\n",
            "Epoch 20/30\n",
            "1719/1719 [==============================] - 6s 3ms/step - loss: 0.2668 - accuracy: 0.9034 - val_loss: 0.3240 - val_accuracy: 0.8838\n",
            "Epoch 21/30\n",
            "1719/1719 [==============================] - 6s 4ms/step - loss: 0.2621 - accuracy: 0.9044 - val_loss: 0.3019 - val_accuracy: 0.8902\n",
            "Epoch 22/30\n",
            "1719/1719 [==============================] - 6s 4ms/step - loss: 0.2571 - accuracy: 0.9072 - val_loss: 0.3181 - val_accuracy: 0.8844\n",
            "Epoch 23/30\n",
            "1719/1719 [==============================] - 6s 4ms/step - loss: 0.2522 - accuracy: 0.9085 - val_loss: 0.3096 - val_accuracy: 0.8870\n",
            "Epoch 24/30\n",
            "1719/1719 [==============================] - 6s 4ms/step - loss: 0.2486 - accuracy: 0.9100 - val_loss: 0.2989 - val_accuracy: 0.8930\n",
            "Epoch 25/30\n",
            "1719/1719 [==============================] - 6s 4ms/step - loss: 0.2438 - accuracy: 0.9122 - val_loss: 0.3059 - val_accuracy: 0.8902\n",
            "Epoch 26/30\n",
            "1719/1719 [==============================] - 6s 4ms/step - loss: 0.2386 - accuracy: 0.9142 - val_loss: 0.3249 - val_accuracy: 0.8806\n",
            "Epoch 27/30\n",
            "1719/1719 [==============================] - 6s 4ms/step - loss: 0.2357 - accuracy: 0.9146 - val_loss: 0.2907 - val_accuracy: 0.8938\n",
            "Epoch 28/30\n",
            "1719/1719 [==============================] - 6s 4ms/step - loss: 0.2309 - accuracy: 0.9174 - val_loss: 0.3040 - val_accuracy: 0.8910\n",
            "Epoch 29/30\n",
            "1719/1719 [==============================] - 6s 4ms/step - loss: 0.2274 - accuracy: 0.9192 - val_loss: 0.3003 - val_accuracy: 0.8916\n",
            "Epoch 30/30\n",
            "1719/1719 [==============================] - 6s 4ms/step - loss: 0.2232 - accuracy: 0.9199 - val_loss: 0.2989 - val_accuracy: 0.8920\n"
          ]
        }
      ],
      "source": [
        "history = model.fit(X_train, y_train, batch_size=32, epochs=30,\n",
        "                    validation_data=(X_valid, y_valid))"
      ]
    },
    {
      "cell_type": "code",
      "execution_count": 55,
      "metadata": {
        "colab": {
          "base_uri": "https://localhost:8080/"
        },
        "id": "QX_WBYFjaleF",
        "outputId": "4f5a6971-6dff-46bf-cdba-b785dbdb6707"
      },
      "outputs": [
        {
          "output_type": "execute_result",
          "data": {
            "text/plain": [
              "{'epochs': 30, 'steps': 1719, 'verbose': 1}"
            ]
          },
          "metadata": {},
          "execution_count": 55
        }
      ],
      "source": [
        "history.params"
      ]
    },
    {
      "cell_type": "code",
      "execution_count": 56,
      "metadata": {
        "colab": {
          "base_uri": "https://localhost:8080/"
        },
        "id": "8lEAHEmzaleF",
        "outputId": "9d6a2d6b-313b-48a3-c370-648901b713b7"
      },
      "outputs": [
        {
          "output_type": "stream",
          "name": "stdout",
          "text": [
            "[0, 1, 2, 3, 4, 5, 6, 7, 8, 9, 10, 11, 12, 13, 14, 15, 16, 17, 18, 19, 20, 21, 22, 23, 24, 25, 26, 27, 28, 29]\n"
          ]
        }
      ],
      "source": [
        "print(history.epoch)"
      ]
    },
    {
      "cell_type": "code",
      "execution_count": 57,
      "metadata": {
        "colab": {
          "base_uri": "https://localhost:8080/"
        },
        "id": "m6oW2SARaleF",
        "outputId": "40bfc470-5251-4009-e0c4-04d00607f4b4"
      },
      "outputs": [
        {
          "output_type": "execute_result",
          "data": {
            "text/plain": [
              "dict_keys(['loss', 'accuracy', 'val_loss', 'val_accuracy'])"
            ]
          },
          "metadata": {},
          "execution_count": 57
        }
      ],
      "source": [
        "history.history.keys()"
      ]
    },
    {
      "cell_type": "markdown",
      "metadata": {
        "id": "UMolLDooaleG"
      },
      "source": [
        "### Plot learning Curves"
      ]
    },
    {
      "cell_type": "code",
      "execution_count": 58,
      "metadata": {
        "colab": {
          "base_uri": "https://localhost:8080/",
          "height": 328
        },
        "id": "MStxJqxNaleG",
        "outputId": "dfc11844-6049-4ea3-fef3-425241eb98d5"
      },
      "outputs": [
        {
          "output_type": "display_data",
          "data": {
            "text/plain": [
              "<Figure size 576x360 with 1 Axes>"
            ],
            "image/png": "[encoded data removed]"
          },
          "metadata": {
            "needs_background": "light"
          }
        }
      ],
      "source": [
        "import pandas as pd\n",
        "\n",
        "pd.DataFrame(history.history).plot(figsize=(8, 5))\n",
        "plt.grid(True)\n",
        "plt.gca().set_ylim(0, 1)\n",
        "plt.show()"
      ]
    },
    {
      "cell_type": "code",
      "execution_count": 59,
      "metadata": {
        "colab": {
          "base_uri": "https://localhost:8080/"
        },
        "id": "-DjSc8B3aleH",
        "outputId": "6369ef29-8e98-40d1-fd35-014c75db4690"
      },
      "outputs": [
        {
          "output_type": "stream",
          "name": "stdout",
          "text": [
            "313/313 [==============================] - 1s 3ms/step - loss: 0.3317 - accuracy: 0.8806\n"
          ]
        },
        {
          "output_type": "execute_result",
          "data": {
            "text/plain": [
              "[0.3317340314388275, 0.8805999755859375]"
            ]
          },
          "metadata": {},
          "execution_count": 59
        }
      ],
      "source": [
        "model.evaluate(X_test, y_test)"
      ]
    },
    {
      "cell_type": "code",
      "execution_count": 60,
      "metadata": {
        "colab": {
          "base_uri": "https://localhost:8080/"
        },
        "id": "Z_SwU95TaleH",
        "outputId": "b676c82f-b545-4968-8350-af7f75cb98fd"
      },
      "outputs": [
        {
          "output_type": "execute_result",
          "data": {
            "text/plain": [
              "array([[0., 0., 0., 0., 0., 0., 0., 0., 0., 1.],\n",
              "       [0., 0., 1., 0., 0., 0., 0., 0., 0., 0.],\n",
              "       [0., 1., 0., 0., 0., 0., 0., 0., 0., 0.]], dtype=float32)"
            ]
          },
          "metadata": {},
          "execution_count": 60
        }
      ],
      "source": [
        "X_new = X_test[:3]\n",
        "y_proba = model.predict(X_new)\n",
        "y_proba.round(2)"
      ]
    },
    {
      "cell_type": "code",
      "execution_count": 61,
      "metadata": {
        "colab": {
          "base_uri": "https://localhost:8080/"
        },
        "id": "OvNWGzYaaleH",
        "outputId": "cd85ae48-ffd3-40da-af99-f2c7b737f00a"
      },
      "outputs": [
        {
          "output_type": "execute_result",
          "data": {
            "text/plain": [
              "array([[0, 0, 0, 0, 0, 0, 0, 0, 0, 1],\n",
              "       [0, 0, 1, 0, 0, 0, 0, 0, 0, 0],\n",
              "       [0, 1, 0, 0, 0, 0, 0, 0, 0, 0]], dtype=int32)"
            ]
          },
          "metadata": {},
          "execution_count": 61
        }
      ],
      "source": [
        "y_pred = (model.predict(X_new) > 0.5).astype(\"int32\")\n",
        "y_pred"
      ]
    },
    {
      "cell_type": "code",
      "execution_count": 62,
      "metadata": {
        "colab": {
          "base_uri": "https://localhost:8080/"
        },
        "id": "KlujMIw2aleI",
        "outputId": "8e0f2005-c505-4ba0-f05d-323a9fb2fc13"
      },
      "outputs": [
        {
          "output_type": "execute_result",
          "data": {
            "text/plain": [
              "array([['T-shirt/top', 'T-shirt/top', 'T-shirt/top', 'T-shirt/top',\n",
              "        'T-shirt/top', 'T-shirt/top', 'T-shirt/top', 'T-shirt/top',\n",
              "        'T-shirt/top', 'Trouser'],\n",
              "       ['T-shirt/top', 'T-shirt/top', 'Trouser', 'T-shirt/top',\n",
              "        'T-shirt/top', 'T-shirt/top', 'T-shirt/top', 'T-shirt/top',\n",
              "        'T-shirt/top', 'T-shirt/top'],\n",
              "       ['T-shirt/top', 'Trouser', 'T-shirt/top', 'T-shirt/top',\n",
              "        'T-shirt/top', 'T-shirt/top', 'T-shirt/top', 'T-shirt/top',\n",
              "        'T-shirt/top', 'T-shirt/top']], dtype='<U11')"
            ]
          },
          "metadata": {},
          "execution_count": 62
        }
      ],
      "source": [
        "np.array(class_names)[y_pred]"
      ]
    },
    {
      "cell_type": "code",
      "execution_count": 63,
      "metadata": {
        "colab": {
          "base_uri": "https://localhost:8080/"
        },
        "id": "4C5F0r5TaleI",
        "outputId": "9f41ca9b-c979-490f-a31d-4c1d5463b3e9"
      },
      "outputs": [
        {
          "output_type": "execute_result",
          "data": {
            "text/plain": [
              "array([9, 2, 1], dtype=uint8)"
            ]
          },
          "metadata": {},
          "execution_count": 63
        }
      ],
      "source": [
        "y_new = y_test[:3]\n",
        "y_new"
      ]
    },
    {
      "cell_type": "code",
      "execution_count": 64,
      "metadata": {
        "colab": {
          "base_uri": "https://localhost:8080/",
          "height": 165
        },
        "id": "n-kuAetWaleI",
        "outputId": "a19e3a0f-39bf-4465-b5de-b20c0bade1fd"
      },
      "outputs": [
        {
          "output_type": "display_data",
          "data": {
            "text/plain": [
              "<Figure size 518.4x172.8 with 3 Axes>"
            ],
            "image/png": "[encoded data removed]"
          },
          "metadata": {
            "needs_background": "light"
          }
        }
      ],
      "source": [
        "plt.figure(figsize=(7.2, 2.4))\n",
        "for index, image in enumerate(X_new):\n",
        "    plt.subplot(1, 3, index + 1)\n",
        "    plt.imshow(image, cmap=\"binary\", interpolation=\"nearest\")\n",
        "    plt.axis('off')\n",
        "    plt.title(class_names[y_test[index]], fontsize=12)\n",
        "plt.subplots_adjust(wspace=0.2, hspace=0.5)\n",
        "plt.show()"
      ]
    },
    {
      "cell_type": "markdown",
      "metadata": {
        "collapsed": true,
        "id": "zJCDpBLCaleJ"
      },
      "source": [
        "## Exercise"
      ]
    },
    {
      "cell_type": "markdown",
      "metadata": {
        "id": "mqT2bsPHaleJ"
      },
      "source": [
        "#### 1) Plot Learning curves when using different optimizers\n",
        "#### 2) Plot Learning curves when using different batch size\n",
        "#### 3) Plot Learning curves when using different number of epochs\n",
        "#### 4) Add additional neurons and use Dropout Layer. Plot Learning curves.\n",
        "#### 5) Use Batch Normalisation\n",
        "#### 6) repeat with more layers\n",
        "#### 7) apply on different datasets"
      ]
    },
    {
      "cell_type": "markdown",
      "source": [
        "#### 1) Plot Learning curves when using different optimizers"
      ],
      "metadata": {
        "id": "mH0HJ8FdXvu3"
      }
    },
    {
      "cell_type": "code",
      "execution_count": 65,
      "metadata": {
        "collapsed": true,
        "colab": {
          "base_uri": "https://localhost:8080/"
        },
        "id": "iP1xm4AValeJ",
        "outputId": "85321e5b-1834-49e6-dc9e-f46976bddab4"
      },
      "outputs": [
        {
          "output_type": "stream",
          "name": "stdout",
          "text": [
            "Epoch 1/30\n",
            "1719/1719 [==============================] - 8s 4ms/step - loss: 0.4997 - accuracy: 0.8186 - val_loss: 0.3946 - val_accuracy: 0.8600\n",
            "Epoch 2/30\n",
            "1719/1719 [==============================] - 7s 4ms/step - loss: 0.3843 - accuracy: 0.8614 - val_loss: 0.3815 - val_accuracy: 0.8686\n",
            "Epoch 3/30\n",
            "1719/1719 [==============================] - 7s 4ms/step - loss: 0.3599 - accuracy: 0.8728 - val_loss: 0.3883 - val_accuracy: 0.8738\n",
            "Epoch 4/30\n",
            "1719/1719 [==============================] - 7s 4ms/step - loss: 0.3476 - accuracy: 0.8789 - val_loss: 0.3630 - val_accuracy: 0.8850\n",
            "Epoch 5/30\n",
            "1719/1719 [==============================] - 7s 4ms/step - loss: 0.3393 - accuracy: 0.8831 - val_loss: 0.4006 - val_accuracy: 0.8844\n",
            "Epoch 6/30\n",
            "1719/1719 [==============================] - 7s 4ms/step - loss: 0.3319 - accuracy: 0.8854 - val_loss: 0.4350 - val_accuracy: 0.8766\n",
            "Epoch 7/30\n",
            "1719/1719 [==============================] - 7s 4ms/step - loss: 0.3236 - accuracy: 0.8889 - val_loss: 0.4234 - val_accuracy: 0.8802\n",
            "Epoch 8/30\n",
            "1719/1719 [==============================] - 7s 4ms/step - loss: 0.3223 - accuracy: 0.8915 - val_loss: 0.4336 - val_accuracy: 0.8854\n",
            "Epoch 9/30\n",
            "1719/1719 [==============================] - 7s 4ms/step - loss: 0.3190 - accuracy: 0.8924 - val_loss: 0.5891 - val_accuracy: 0.8594\n",
            "Epoch 10/30\n",
            "1719/1719 [==============================] - 7s 4ms/step - loss: 0.3137 - accuracy: 0.8941 - val_loss: 0.4771 - val_accuracy: 0.8782\n",
            "Epoch 11/30\n",
            "1719/1719 [==============================] - 7s 4ms/step - loss: 0.3106 - accuracy: 0.8960 - val_loss: 0.4970 - val_accuracy: 0.8868\n",
            "Epoch 12/30\n",
            "1719/1719 [==============================] - 7s 4ms/step - loss: 0.3058 - accuracy: 0.8983 - val_loss: 0.5682 - val_accuracy: 0.8850\n",
            "Epoch 13/30\n",
            "1719/1719 [==============================] - 7s 4ms/step - loss: 0.3024 - accuracy: 0.8991 - val_loss: 0.5398 - val_accuracy: 0.8846\n",
            "Epoch 14/30\n",
            "1719/1719 [==============================] - 7s 4ms/step - loss: 0.3015 - accuracy: 0.9013 - val_loss: 0.5281 - val_accuracy: 0.8818\n",
            "Epoch 15/30\n",
            "1719/1719 [==============================] - 7s 4ms/step - loss: 0.2951 - accuracy: 0.9051 - val_loss: 0.5444 - val_accuracy: 0.8796\n",
            "Epoch 16/30\n",
            "1719/1719 [==============================] - 7s 4ms/step - loss: 0.2950 - accuracy: 0.9046 - val_loss: 0.6126 - val_accuracy: 0.8782\n",
            "Epoch 17/30\n",
            "1719/1719 [==============================] - 7s 4ms/step - loss: 0.2901 - accuracy: 0.9059 - val_loss: 0.6870 - val_accuracy: 0.8814\n",
            "Epoch 18/30\n",
            "1719/1719 [==============================] - 7s 4ms/step - loss: 0.2905 - accuracy: 0.9090 - val_loss: 0.6569 - val_accuracy: 0.8704\n",
            "Epoch 19/30\n",
            "1719/1719 [==============================] - 7s 4ms/step - loss: 0.2841 - accuracy: 0.9082 - val_loss: 0.6526 - val_accuracy: 0.8754\n",
            "Epoch 20/30\n",
            "1719/1719 [==============================] - 7s 4ms/step - loss: 0.2874 - accuracy: 0.9097 - val_loss: 0.6743 - val_accuracy: 0.8892\n",
            "Epoch 21/30\n",
            "1719/1719 [==============================] - 7s 4ms/step - loss: 0.2835 - accuracy: 0.9092 - val_loss: 0.6529 - val_accuracy: 0.8942\n",
            "Epoch 22/30\n",
            "1719/1719 [==============================] - 7s 4ms/step - loss: 0.2771 - accuracy: 0.9118 - val_loss: 0.7747 - val_accuracy: 0.8878\n",
            "Epoch 23/30\n",
            "1719/1719 [==============================] - 7s 4ms/step - loss: 0.2760 - accuracy: 0.9120 - val_loss: 0.6816 - val_accuracy: 0.8868\n",
            "Epoch 24/30\n",
            "1719/1719 [==============================] - 7s 4ms/step - loss: 0.2715 - accuracy: 0.9140 - val_loss: 0.7356 - val_accuracy: 0.8856\n",
            "Epoch 25/30\n",
            "1719/1719 [==============================] - 7s 4ms/step - loss: 0.2711 - accuracy: 0.9152 - val_loss: 0.7777 - val_accuracy: 0.8914\n",
            "Epoch 26/30\n",
            "1719/1719 [==============================] - 7s 4ms/step - loss: 0.2641 - accuracy: 0.9160 - val_loss: 0.7762 - val_accuracy: 0.8844\n",
            "Epoch 27/30\n",
            "1719/1719 [==============================] - 7s 4ms/step - loss: 0.2685 - accuracy: 0.9173 - val_loss: 0.8203 - val_accuracy: 0.8874\n",
            "Epoch 28/30\n",
            "1719/1719 [==============================] - 7s 4ms/step - loss: 0.2656 - accuracy: 0.9171 - val_loss: 0.7717 - val_accuracy: 0.8844\n",
            "Epoch 29/30\n",
            "1719/1719 [==============================] - 7s 4ms/step - loss: 0.2617 - accuracy: 0.9192 - val_loss: 0.8666 - val_accuracy: 0.8908\n",
            "Epoch 30/30\n",
            "1719/1719 [==============================] - 7s 4ms/step - loss: 0.2581 - accuracy: 0.9194 - val_loss: 0.9201 - val_accuracy: 0.8832\n",
            "*********************************************************\n",
            "Epoch 1/30\n",
            "1719/1719 [==============================] - 7s 4ms/step - loss: 0.4867 - accuracy: 0.8264 - val_loss: 0.3702 - val_accuracy: 0.8642\n",
            "Epoch 2/30\n",
            "1719/1719 [==============================] - 6s 4ms/step - loss: 0.3618 - accuracy: 0.8669 - val_loss: 0.3444 - val_accuracy: 0.8682\n",
            "Epoch 3/30\n",
            "1719/1719 [==============================] - 7s 4ms/step - loss: 0.3298 - accuracy: 0.8770 - val_loss: 0.3324 - val_accuracy: 0.8754\n",
            "Epoch 4/30\n",
            "1719/1719 [==============================] - 6s 4ms/step - loss: 0.3044 - accuracy: 0.8860 - val_loss: 0.3062 - val_accuracy: 0.8894\n",
            "Epoch 5/30\n",
            "1719/1719 [==============================] - 6s 4ms/step - loss: 0.2878 - accuracy: 0.8929 - val_loss: 0.3019 - val_accuracy: 0.8932\n",
            "Epoch 6/30\n",
            "1719/1719 [==============================] - 6s 4ms/step - loss: 0.2714 - accuracy: 0.8981 - val_loss: 0.3075 - val_accuracy: 0.8904\n",
            "Epoch 7/30\n",
            "1719/1719 [==============================] - 7s 4ms/step - loss: 0.2598 - accuracy: 0.9027 - val_loss: 0.3038 - val_accuracy: 0.8970\n",
            "Epoch 8/30\n",
            "1719/1719 [==============================] - 7s 4ms/step - loss: 0.2472 - accuracy: 0.9062 - val_loss: 0.3008 - val_accuracy: 0.8940\n",
            "Epoch 9/30\n",
            "1719/1719 [==============================] - 7s 4ms/step - loss: 0.2378 - accuracy: 0.9099 - val_loss: 0.3016 - val_accuracy: 0.8916\n",
            "Epoch 10/30\n",
            "1719/1719 [==============================] - 6s 4ms/step - loss: 0.2261 - accuracy: 0.9130 - val_loss: 0.2958 - val_accuracy: 0.8946\n",
            "Epoch 11/30\n",
            "1719/1719 [==============================] - 7s 4ms/step - loss: 0.2205 - accuracy: 0.9155 - val_loss: 0.2984 - val_accuracy: 0.8938\n",
            "Epoch 12/30\n",
            "1719/1719 [==============================] - 6s 4ms/step - loss: 0.2106 - accuracy: 0.9203 - val_loss: 0.2955 - val_accuracy: 0.8996\n",
            "Epoch 13/30\n",
            "1719/1719 [==============================] - 6s 4ms/step - loss: 0.2048 - accuracy: 0.9228 - val_loss: 0.3103 - val_accuracy: 0.8938\n",
            "Epoch 14/30\n",
            "1719/1719 [==============================] - 7s 4ms/step - loss: 0.1975 - accuracy: 0.9244 - val_loss: 0.3204 - val_accuracy: 0.8964\n",
            "Epoch 15/30\n",
            "1719/1719 [==============================] - 6s 4ms/step - loss: 0.1891 - accuracy: 0.9269 - val_loss: 0.3177 - val_accuracy: 0.8954\n",
            "Epoch 16/30\n",
            "1719/1719 [==============================] - 6s 4ms/step - loss: 0.1843 - accuracy: 0.9292 - val_loss: 0.3306 - val_accuracy: 0.8972\n",
            "Epoch 17/30\n",
            "1719/1719 [==============================] - 6s 4ms/step - loss: 0.1766 - accuracy: 0.9331 - val_loss: 0.3254 - val_accuracy: 0.8956\n",
            "Epoch 18/30\n",
            "1719/1719 [==============================] - 6s 4ms/step - loss: 0.1721 - accuracy: 0.9344 - val_loss: 0.3557 - val_accuracy: 0.8924\n",
            "Epoch 19/30\n",
            "1719/1719 [==============================] - 6s 4ms/step - loss: 0.1677 - accuracy: 0.9349 - val_loss: 0.3598 - val_accuracy: 0.8916\n",
            "Epoch 20/30\n",
            "1719/1719 [==============================] - 6s 4ms/step - loss: 0.1607 - accuracy: 0.9379 - val_loss: 0.3609 - val_accuracy: 0.8926\n",
            "Epoch 21/30\n",
            "1719/1719 [==============================] - 6s 4ms/step - loss: 0.1585 - accuracy: 0.9396 - val_loss: 0.3652 - val_accuracy: 0.8998\n",
            "Epoch 22/30\n",
            "1719/1719 [==============================] - 6s 4ms/step - loss: 0.1531 - accuracy: 0.9410 - val_loss: 0.3623 - val_accuracy: 0.8998\n",
            "Epoch 23/30\n",
            "1719/1719 [==============================] - 7s 4ms/step - loss: 0.1500 - accuracy: 0.9428 - val_loss: 0.3808 - val_accuracy: 0.8936\n",
            "Epoch 24/30\n",
            "1719/1719 [==============================] - 6s 4ms/step - loss: 0.1448 - accuracy: 0.9439 - val_loss: 0.3964 - val_accuracy: 0.8888\n",
            "Epoch 25/30\n",
            "1719/1719 [==============================] - 6s 4ms/step - loss: 0.1407 - accuracy: 0.9447 - val_loss: 0.4228 - val_accuracy: 0.8912\n",
            "Epoch 26/30\n",
            "1719/1719 [==============================] - 7s 4ms/step - loss: 0.1359 - accuracy: 0.9478 - val_loss: 0.4010 - val_accuracy: 0.8972\n",
            "Epoch 27/30\n",
            "1719/1719 [==============================] - 6s 4ms/step - loss: 0.1332 - accuracy: 0.9484 - val_loss: 0.4205 - val_accuracy: 0.8932\n",
            "Epoch 28/30\n",
            "1719/1719 [==============================] - 6s 4ms/step - loss: 0.1326 - accuracy: 0.9487 - val_loss: 0.4148 - val_accuracy: 0.8990\n",
            "Epoch 29/30\n",
            "1719/1719 [==============================] - 6s 4ms/step - loss: 0.1285 - accuracy: 0.9517 - val_loss: 0.4650 - val_accuracy: 0.8912\n",
            "Epoch 30/30\n",
            "1719/1719 [==============================] - 7s 4ms/step - loss: 0.1265 - accuracy: 0.9518 - val_loss: 0.4344 - val_accuracy: 0.8926\n",
            "*********************************************************\n"
          ]
        }
      ],
      "source": [
        "list_optimizers = [\"rmsprop\" , \"adam\" ] \n",
        "list_history = []\n",
        "for optim in list_optimizers :\n",
        "    model = keras.models.Sequential([\n",
        "    keras.layers.Flatten(input_shape=[28, 28]),\n",
        "    keras.layers.Dense(300, activation=\"relu\"),\n",
        "    keras.layers.Dense(100, activation=\"relu\"),\n",
        "    keras.layers.Dense(10, activation=\"softmax\")\n",
        "    ])\n",
        "    model.compile(loss=\"sparse_categorical_crossentropy\",\n",
        "                  optimizer=optim,\n",
        "                  metrics=[\"accuracy\"])\n",
        "    history = model.fit(X_train, y_train, batch_size=32, epochs=30,\n",
        "                        validation_data=(X_valid, y_valid))\n",
        "    list_history.append(history)\n",
        "    print('*********************************************************')\n",
        "    "
      ]
    },
    {
      "cell_type": "code",
      "source": [
        "fig = plt.figure(figsize = (16,8))\n",
        "fig.subplots_adjust(hspace=0.4, wspace=0.4)\n",
        "for i in range(1, 3):\n",
        "    ax = fig.add_subplot(1, 2, i)\n",
        "    ax.plot(pd.DataFrame(list_history[i-1].history))\n",
        "    plt.title(list_optimizers[i-1])\n",
        "    plt.grid(True)\n",
        "    plt.gca().set_ylim(0, 1)\n",
        "plt.show()"
      ],
      "metadata": {
        "id": "Y59PXImpYN1i",
        "outputId": "be2bdc34-c631-48bd-80bd-3c9f08f8ad38",
        "colab": {
          "base_uri": "https://localhost:8080/",
          "height": 502
        }
      },
      "execution_count": 66,
      "outputs": [
        {
          "output_type": "display_data",
          "data": {
            "text/plain": [
              "<Figure size 1152x576 with 2 Axes>"
            ],
            "image/png": "[encoded data removed]"
          },
          "metadata": {
            "needs_background": "light"
          }
        }
      ]
    },
    {
      "cell_type": "markdown",
      "source": [
        "#### 2) Plot Learning curves when using different batch size"
      ],
      "metadata": {
        "id": "CT77egs1X4Zs"
      }
    },
    {
      "cell_type": "code",
      "source": [
        "list_history = []\n",
        "for i in range(5,8) :\n",
        "    model = keras.models.Sequential([\n",
        "    keras.layers.Flatten(input_shape=[28, 28]),\n",
        "    keras.layers.Dense(300, activation=\"relu\"),\n",
        "    keras.layers.Dense(100, activation=\"relu\"),\n",
        "    keras.layers.Dense(10, activation=\"softmax\")\n",
        "    ])\n",
        "    model.compile(loss=\"sparse_categorical_crossentropy\",\n",
        "                  optimizer=\"sgd\",\n",
        "                  metrics=[\"accuracy\"])\n",
        "    history = model.fit(X_train, y_train, batch_size = 2**i , epochs=30,\n",
        "                        validation_data=(X_valid, y_valid))\n",
        "    list_history.append(history)\n",
        "    print('**************************************************************')"
      ],
      "metadata": {
        "id": "O586lORYax6Y",
        "outputId": "b65900a9-0a89-42bb-a5c5-ab6210c296fa",
        "colab": {
          "base_uri": "https://localhost:8080/"
        }
      },
      "execution_count": 69,
      "outputs": [
        {
          "output_type": "stream",
          "name": "stdout",
          "text": [
            "Epoch 1/30\n",
            "1719/1719 [==============================] - 7s 4ms/step - loss: 0.7182 - accuracy: 0.7658 - val_loss: 0.5044 - val_accuracy: 0.8350\n",
            "Epoch 2/30\n",
            "1719/1719 [==============================] - 6s 4ms/step - loss: 0.4884 - accuracy: 0.8304 - val_loss: 0.4378 - val_accuracy: 0.8554\n",
            "Epoch 3/30\n",
            "1719/1719 [==============================] - 6s 4ms/step - loss: 0.4404 - accuracy: 0.8457 - val_loss: 0.4090 - val_accuracy: 0.8644\n",
            "Epoch 4/30\n",
            "1719/1719 [==============================] - 6s 4ms/step - loss: 0.4148 - accuracy: 0.8547 - val_loss: 0.3962 - val_accuracy: 0.8662\n",
            "Epoch 5/30\n",
            "1719/1719 [==============================] - 6s 3ms/step - loss: 0.3941 - accuracy: 0.8618 - val_loss: 0.3785 - val_accuracy: 0.8724\n",
            "Epoch 6/30\n",
            "1719/1719 [==============================] - 6s 4ms/step - loss: 0.3798 - accuracy: 0.8676 - val_loss: 0.3793 - val_accuracy: 0.8698\n",
            "Epoch 7/30\n",
            "1719/1719 [==============================] - 6s 3ms/step - loss: 0.3650 - accuracy: 0.8708 - val_loss: 0.3710 - val_accuracy: 0.8686\n",
            "Epoch 8/30\n",
            "1719/1719 [==============================] - 6s 3ms/step - loss: 0.3543 - accuracy: 0.8748 - val_loss: 0.3594 - val_accuracy: 0.8718\n",
            "Epoch 9/30\n",
            "1719/1719 [==============================] - 6s 3ms/step - loss: 0.3442 - accuracy: 0.8779 - val_loss: 0.3513 - val_accuracy: 0.8756\n",
            "Epoch 10/30\n",
            "1719/1719 [==============================] - 6s 4ms/step - loss: 0.3343 - accuracy: 0.8822 - val_loss: 0.3534 - val_accuracy: 0.8746\n",
            "Epoch 11/30\n",
            "1719/1719 [==============================] - 6s 4ms/step - loss: 0.3253 - accuracy: 0.8843 - val_loss: 0.3450 - val_accuracy: 0.8780\n",
            "Epoch 12/30\n",
            "1719/1719 [==============================] - 6s 4ms/step - loss: 0.3168 - accuracy: 0.8862 - val_loss: 0.3447 - val_accuracy: 0.8772\n",
            "Epoch 13/30\n",
            "1719/1719 [==============================] - 6s 3ms/step - loss: 0.3109 - accuracy: 0.8878 - val_loss: 0.3404 - val_accuracy: 0.8822\n",
            "Epoch 14/30\n",
            "1719/1719 [==============================] - 6s 3ms/step - loss: 0.3035 - accuracy: 0.8903 - val_loss: 0.3150 - val_accuracy: 0.8880\n",
            "Epoch 15/30\n",
            "1719/1719 [==============================] - 6s 3ms/step - loss: 0.2969 - accuracy: 0.8936 - val_loss: 0.3200 - val_accuracy: 0.8852\n",
            "Epoch 16/30\n",
            "1719/1719 [==============================] - 6s 3ms/step - loss: 0.2902 - accuracy: 0.8950 - val_loss: 0.3177 - val_accuracy: 0.8876\n",
            "Epoch 17/30\n",
            "1719/1719 [==============================] - 6s 4ms/step - loss: 0.2852 - accuracy: 0.8968 - val_loss: 0.3111 - val_accuracy: 0.8874\n",
            "Epoch 18/30\n",
            "1719/1719 [==============================] - 6s 4ms/step - loss: 0.2794 - accuracy: 0.8998 - val_loss: 0.3380 - val_accuracy: 0.8758\n",
            "Epoch 19/30\n",
            "1719/1719 [==============================] - 6s 4ms/step - loss: 0.2742 - accuracy: 0.9009 - val_loss: 0.3118 - val_accuracy: 0.8908\n",
            "Epoch 20/30\n",
            "1719/1719 [==============================] - 6s 4ms/step - loss: 0.2687 - accuracy: 0.9033 - val_loss: 0.3178 - val_accuracy: 0.8872\n",
            "Epoch 21/30\n",
            "1719/1719 [==============================] - 6s 3ms/step - loss: 0.2643 - accuracy: 0.9042 - val_loss: 0.3127 - val_accuracy: 0.8876\n",
            "Epoch 22/30\n",
            "1719/1719 [==============================] - 6s 4ms/step - loss: 0.2587 - accuracy: 0.9076 - val_loss: 0.3148 - val_accuracy: 0.8820\n",
            "Epoch 23/30\n",
            "1719/1719 [==============================] - 6s 4ms/step - loss: 0.2547 - accuracy: 0.9081 - val_loss: 0.2989 - val_accuracy: 0.8936\n",
            "Epoch 24/30\n",
            "1719/1719 [==============================] - 6s 4ms/step - loss: 0.2507 - accuracy: 0.9090 - val_loss: 0.3048 - val_accuracy: 0.8900\n",
            "Epoch 25/30\n",
            "1719/1719 [==============================] - 6s 4ms/step - loss: 0.2452 - accuracy: 0.9119 - val_loss: 0.3218 - val_accuracy: 0.8826\n",
            "Epoch 26/30\n",
            "1719/1719 [==============================] - 6s 3ms/step - loss: 0.2420 - accuracy: 0.9128 - val_loss: 0.2952 - val_accuracy: 0.8924\n",
            "Epoch 27/30\n",
            "1719/1719 [==============================] - 6s 3ms/step - loss: 0.2378 - accuracy: 0.9143 - val_loss: 0.3026 - val_accuracy: 0.8926\n",
            "Epoch 28/30\n",
            "1719/1719 [==============================] - 6s 4ms/step - loss: 0.2341 - accuracy: 0.9150 - val_loss: 0.2932 - val_accuracy: 0.8906\n",
            "Epoch 29/30\n",
            "1719/1719 [==============================] - 6s 4ms/step - loss: 0.2304 - accuracy: 0.9161 - val_loss: 0.2934 - val_accuracy: 0.8952\n",
            "Epoch 30/30\n",
            "1719/1719 [==============================] - 7s 4ms/step - loss: 0.2265 - accuracy: 0.9194 - val_loss: 0.2905 - val_accuracy: 0.8956\n",
            "**************************************************************\n",
            "Epoch 1/30\n",
            "860/860 [==============================] - 4s 4ms/step - loss: 0.8400 - accuracy: 0.7354 - val_loss: 0.5856 - val_accuracy: 0.8034\n",
            "Epoch 2/30\n",
            "860/860 [==============================] - 3s 4ms/step - loss: 0.5433 - accuracy: 0.8149 - val_loss: 0.5327 - val_accuracy: 0.8100\n",
            "Epoch 3/30\n",
            "860/860 [==============================] - 3s 4ms/step - loss: 0.4877 - accuracy: 0.8312 - val_loss: 0.4716 - val_accuracy: 0.8414\n",
            "Epoch 4/30\n",
            "860/860 [==============================] - 3s 4ms/step - loss: 0.4587 - accuracy: 0.8401 - val_loss: 0.4379 - val_accuracy: 0.8542\n",
            "Epoch 5/30\n",
            "860/860 [==============================] - 3s 4ms/step - loss: 0.4377 - accuracy: 0.8478 - val_loss: 0.4288 - val_accuracy: 0.8596\n",
            "Epoch 6/30\n",
            "860/860 [==============================] - 3s 4ms/step - loss: 0.4227 - accuracy: 0.8527 - val_loss: 0.4129 - val_accuracy: 0.8606\n",
            "Epoch 7/30\n",
            "860/860 [==============================] - 3s 4ms/step - loss: 0.4096 - accuracy: 0.8564 - val_loss: 0.4109 - val_accuracy: 0.8614\n",
            "Epoch 8/30\n",
            "860/860 [==============================] - 3s 4ms/step - loss: 0.3990 - accuracy: 0.8608 - val_loss: 0.4215 - val_accuracy: 0.8550\n",
            "Epoch 9/30\n",
            "860/860 [==============================] - 3s 4ms/step - loss: 0.3905 - accuracy: 0.8628 - val_loss: 0.4483 - val_accuracy: 0.8464\n",
            "Epoch 10/30\n",
            "860/860 [==============================] - 3s 4ms/step - loss: 0.3819 - accuracy: 0.8661 - val_loss: 0.3975 - val_accuracy: 0.8654\n",
            "Epoch 11/30\n",
            "860/860 [==============================] - 3s 4ms/step - loss: 0.3736 - accuracy: 0.8689 - val_loss: 0.3754 - val_accuracy: 0.8708\n",
            "Epoch 12/30\n",
            "860/860 [==============================] - 3s 4ms/step - loss: 0.3666 - accuracy: 0.8717 - val_loss: 0.4345 - val_accuracy: 0.8516\n",
            "Epoch 13/30\n",
            "860/860 [==============================] - 3s 4ms/step - loss: 0.3603 - accuracy: 0.8733 - val_loss: 0.3644 - val_accuracy: 0.8742\n",
            "Epoch 14/30\n",
            "860/860 [==============================] - 3s 4ms/step - loss: 0.3549 - accuracy: 0.8749 - val_loss: 0.3681 - val_accuracy: 0.8716\n",
            "Epoch 15/30\n",
            "860/860 [==============================] - 3s 4ms/step - loss: 0.3499 - accuracy: 0.8775 - val_loss: 0.3569 - val_accuracy: 0.8766\n",
            "Epoch 16/30\n",
            "860/860 [==============================] - 3s 4ms/step - loss: 0.3440 - accuracy: 0.8788 - val_loss: 0.3738 - val_accuracy: 0.8718\n",
            "Epoch 17/30\n",
            "860/860 [==============================] - 3s 4ms/step - loss: 0.3385 - accuracy: 0.8801 - val_loss: 0.3555 - val_accuracy: 0.8784\n",
            "Epoch 18/30\n",
            "860/860 [==============================] - 3s 4ms/step - loss: 0.3331 - accuracy: 0.8821 - val_loss: 0.3531 - val_accuracy: 0.8780\n",
            "Epoch 19/30\n",
            "860/860 [==============================] - 3s 4ms/step - loss: 0.3279 - accuracy: 0.8846 - val_loss: 0.3642 - val_accuracy: 0.8724\n",
            "Epoch 20/30\n",
            "860/860 [==============================] - 3s 4ms/step - loss: 0.3250 - accuracy: 0.8850 - val_loss: 0.3468 - val_accuracy: 0.8818\n",
            "Epoch 21/30\n",
            "860/860 [==============================] - 3s 4ms/step - loss: 0.3192 - accuracy: 0.8861 - val_loss: 0.3438 - val_accuracy: 0.8798\n",
            "Epoch 22/30\n",
            "860/860 [==============================] - 3s 4ms/step - loss: 0.3162 - accuracy: 0.8876 - val_loss: 0.3522 - val_accuracy: 0.8788\n",
            "Epoch 23/30\n",
            "860/860 [==============================] - 3s 4ms/step - loss: 0.3120 - accuracy: 0.8891 - val_loss: 0.3530 - val_accuracy: 0.8754\n",
            "Epoch 24/30\n",
            "860/860 [==============================] - 3s 4ms/step - loss: 0.3073 - accuracy: 0.8916 - val_loss: 0.3675 - val_accuracy: 0.8702\n",
            "Epoch 25/30\n",
            "860/860 [==============================] - 3s 3ms/step - loss: 0.3032 - accuracy: 0.8921 - val_loss: 0.3283 - val_accuracy: 0.8830\n",
            "Epoch 26/30\n",
            "860/860 [==============================] - 3s 3ms/step - loss: 0.2992 - accuracy: 0.8931 - val_loss: 0.3531 - val_accuracy: 0.8760\n",
            "Epoch 27/30\n",
            "860/860 [==============================] - 3s 4ms/step - loss: 0.2966 - accuracy: 0.8941 - val_loss: 0.3380 - val_accuracy: 0.8768\n",
            "Epoch 28/30\n",
            "860/860 [==============================] - 3s 4ms/step - loss: 0.2938 - accuracy: 0.8955 - val_loss: 0.3227 - val_accuracy: 0.8852\n",
            "Epoch 29/30\n",
            "860/860 [==============================] - 3s 4ms/step - loss: 0.2890 - accuracy: 0.8966 - val_loss: 0.3438 - val_accuracy: 0.8788\n",
            "Epoch 30/30\n",
            "860/860 [==============================] - 3s 4ms/step - loss: 0.2869 - accuracy: 0.8977 - val_loss: 0.3352 - val_accuracy: 0.8794\n",
            "**************************************************************\n",
            "Epoch 1/30\n",
            "430/430 [==============================] - 2s 4ms/step - loss: 1.0849 - accuracy: 0.6627 - val_loss: 0.7104 - val_accuracy: 0.7784\n",
            "Epoch 2/30\n",
            "430/430 [==============================] - 2s 4ms/step - loss: 0.6460 - accuracy: 0.7878 - val_loss: 0.5830 - val_accuracy: 0.8098\n",
            "Epoch 3/30\n",
            "430/430 [==============================] - 2s 4ms/step - loss: 0.5596 - accuracy: 0.8121 - val_loss: 0.5283 - val_accuracy: 0.8262\n",
            "Epoch 4/30\n",
            "430/430 [==============================] - 2s 4ms/step - loss: 0.5175 - accuracy: 0.8238 - val_loss: 0.4898 - val_accuracy: 0.8394\n",
            "Epoch 5/30\n",
            "430/430 [==============================] - 2s 4ms/step - loss: 0.4901 - accuracy: 0.8321 - val_loss: 0.4729 - val_accuracy: 0.8424\n",
            "Epoch 6/30\n",
            "430/430 [==============================] - 2s 4ms/step - loss: 0.4720 - accuracy: 0.8368 - val_loss: 0.4636 - val_accuracy: 0.8428\n",
            "Epoch 7/30\n",
            "430/430 [==============================] - 2s 4ms/step - loss: 0.4574 - accuracy: 0.8421 - val_loss: 0.4556 - val_accuracy: 0.8476\n",
            "Epoch 8/30\n",
            "430/430 [==============================] - 2s 4ms/step - loss: 0.4448 - accuracy: 0.8462 - val_loss: 0.4386 - val_accuracy: 0.8510\n",
            "Epoch 9/30\n",
            "430/430 [==============================] - 2s 4ms/step - loss: 0.4372 - accuracy: 0.8473 - val_loss: 0.4259 - val_accuracy: 0.8570\n",
            "Epoch 10/30\n",
            "430/430 [==============================] - 2s 4ms/step - loss: 0.4276 - accuracy: 0.8517 - val_loss: 0.4231 - val_accuracy: 0.8550\n",
            "Epoch 11/30\n",
            "430/430 [==============================] - 2s 4ms/step - loss: 0.4195 - accuracy: 0.8542 - val_loss: 0.4253 - val_accuracy: 0.8516\n",
            "Epoch 12/30\n",
            "430/430 [==============================] - 2s 4ms/step - loss: 0.4121 - accuracy: 0.8568 - val_loss: 0.4096 - val_accuracy: 0.8588\n",
            "Epoch 13/30\n",
            "430/430 [==============================] - 2s 4ms/step - loss: 0.4051 - accuracy: 0.8579 - val_loss: 0.3981 - val_accuracy: 0.8648\n",
            "Epoch 14/30\n",
            "430/430 [==============================] - 2s 4ms/step - loss: 0.3990 - accuracy: 0.8615 - val_loss: 0.4150 - val_accuracy: 0.8558\n",
            "Epoch 15/30\n",
            "430/430 [==============================] - 2s 4ms/step - loss: 0.3935 - accuracy: 0.8633 - val_loss: 0.3950 - val_accuracy: 0.8632\n",
            "Epoch 16/30\n",
            "430/430 [==============================] - 2s 4ms/step - loss: 0.3906 - accuracy: 0.8637 - val_loss: 0.4013 - val_accuracy: 0.8650\n",
            "Epoch 17/30\n",
            "430/430 [==============================] - 2s 4ms/step - loss: 0.3842 - accuracy: 0.8662 - val_loss: 0.3809 - val_accuracy: 0.8676\n",
            "Epoch 18/30\n",
            "430/430 [==============================] - 2s 4ms/step - loss: 0.3794 - accuracy: 0.8683 - val_loss: 0.3927 - val_accuracy: 0.8642\n",
            "Epoch 19/30\n",
            "430/430 [==============================] - 2s 4ms/step - loss: 0.3748 - accuracy: 0.8703 - val_loss: 0.3850 - val_accuracy: 0.8694\n",
            "Epoch 20/30\n",
            "430/430 [==============================] - 2s 4ms/step - loss: 0.3714 - accuracy: 0.8705 - val_loss: 0.3834 - val_accuracy: 0.8668\n",
            "Epoch 21/30\n",
            "430/430 [==============================] - 2s 4ms/step - loss: 0.3674 - accuracy: 0.8722 - val_loss: 0.3721 - val_accuracy: 0.8688\n",
            "Epoch 22/30\n",
            "430/430 [==============================] - 2s 4ms/step - loss: 0.3643 - accuracy: 0.8735 - val_loss: 0.3706 - val_accuracy: 0.8710\n",
            "Epoch 23/30\n",
            "430/430 [==============================] - 2s 4ms/step - loss: 0.3605 - accuracy: 0.8739 - val_loss: 0.3747 - val_accuracy: 0.8706\n",
            "Epoch 24/30\n",
            "430/430 [==============================] - 2s 4ms/step - loss: 0.3572 - accuracy: 0.8748 - val_loss: 0.3913 - val_accuracy: 0.8630\n",
            "Epoch 25/30\n",
            "430/430 [==============================] - 2s 4ms/step - loss: 0.3551 - accuracy: 0.8750 - val_loss: 0.3602 - val_accuracy: 0.8756\n",
            "Epoch 26/30\n",
            "430/430 [==============================] - 2s 4ms/step - loss: 0.3492 - accuracy: 0.8784 - val_loss: 0.3625 - val_accuracy: 0.8718\n",
            "Epoch 27/30\n",
            "430/430 [==============================] - 2s 4ms/step - loss: 0.3486 - accuracy: 0.8781 - val_loss: 0.3591 - val_accuracy: 0.8770\n",
            "Epoch 28/30\n",
            "430/430 [==============================] - 2s 4ms/step - loss: 0.3445 - accuracy: 0.8796 - val_loss: 0.3675 - val_accuracy: 0.8724\n",
            "Epoch 29/30\n",
            "430/430 [==============================] - 2s 4ms/step - loss: 0.3413 - accuracy: 0.8805 - val_loss: 0.3540 - val_accuracy: 0.8756\n",
            "Epoch 30/30\n",
            "430/430 [==============================] - 2s 4ms/step - loss: 0.3385 - accuracy: 0.8816 - val_loss: 0.3602 - val_accuracy: 0.8744\n",
            "**************************************************************\n"
          ]
        }
      ]
    },
    {
      "cell_type": "code",
      "source": [
        "len(list_history)"
      ],
      "metadata": {
        "id": "09_K67wgfJi9",
        "outputId": "eeeeb450-4c59-4964-b20f-4411a4dd4deb",
        "colab": {
          "base_uri": "https://localhost:8080/"
        }
      },
      "execution_count": 68,
      "outputs": [
        {
          "output_type": "execute_result",
          "data": {
            "text/plain": [
              "3"
            ]
          },
          "metadata": {},
          "execution_count": 68
        }
      ]
    },
    {
      "cell_type": "code",
      "source": [
        "fig = plt.figure(figsize = (24,8))\n",
        "fig.subplots_adjust(hspace=0.4, wspace=0.4)\n",
        "for i in range(1, 4):\n",
        "    ax = fig.add_subplot(1, 3, i)\n",
        "    ax.plot(pd.DataFrame(list_history[i-1].history))\n",
        "    size = 2**(i+4)\n",
        "    plt.title(\"batch size = \" + str(size))\n",
        "    plt.grid(True)\n",
        "    plt.gca().set_ylim(0, 1)\n",
        "plt.show()"
      ],
      "metadata": {
        "id": "RZXuZdW1eHh4",
        "outputId": "8bdc1d4a-3212-4a9d-fb1a-3db4d9604935",
        "colab": {
          "base_uri": "https://localhost:8080/",
          "height": 502
        }
      },
      "execution_count": 70,
      "outputs": [
        {
          "output_type": "display_data",
          "data": {
            "text/plain": [
              "<Figure size 1728x576 with 3 Axes>"
            ],
            "image/png": "[encoded data removed]"
          },
          "metadata": {
            "needs_background": "light"
          }
        }
      ]
    },
    {
      "cell_type": "markdown",
      "source": [
        "#### 3) Plot Learning curves when using different number of epochs"
      ],
      "metadata": {
        "id": "S5ouGlfYYELJ"
      }
    },
    {
      "cell_type": "code",
      "source": [
        "list_history = []\n",
        "for i in range(40,100,20) :\n",
        "    model = keras.models.Sequential([\n",
        "    keras.layers.Flatten(input_shape=[28, 28]),\n",
        "    keras.layers.Dense(300, activation=\"relu\"),\n",
        "    keras.layers.Dense(100, activation=\"relu\"),\n",
        "    keras.layers.Dense(10, activation=\"softmax\")\n",
        "    ])\n",
        "    model.compile(loss=\"sparse_categorical_crossentropy\",\n",
        "                  optimizer=\"sgd\",\n",
        "                  metrics=[\"accuracy\"])\n",
        "    history = model.fit(X_train, y_train, batch_size = 32 , epochs= i,\n",
        "                        validation_data=(X_valid, y_valid))\n",
        "    list_history.append(history)\n",
        "    print('**************************************************************')"
      ],
      "metadata": {
        "id": "Pn378w_ggRre",
        "outputId": "07cc4bab-b460-474d-bb7a-cbd2ca5544da",
        "colab": {
          "base_uri": "https://localhost:8080/"
        }
      },
      "execution_count": 64,
      "outputs": [
        {
          "output_type": "stream",
          "name": "stdout",
          "text": [
            "Epoch 1/40\n",
            "1719/1719 [==============================] - 6s 3ms/step - loss: 0.7181 - accuracy: 0.7635 - val_loss: 0.5366 - val_accuracy: 0.8108\n",
            "Epoch 2/40\n",
            "1719/1719 [==============================] - 6s 3ms/step - loss: 0.4881 - accuracy: 0.8305 - val_loss: 0.4454 - val_accuracy: 0.8516\n",
            "Epoch 3/40\n",
            "1719/1719 [==============================] - 6s 4ms/step - loss: 0.4452 - accuracy: 0.8435 - val_loss: 0.4157 - val_accuracy: 0.8612\n",
            "Epoch 4/40\n",
            "1719/1719 [==============================] - 6s 4ms/step - loss: 0.4171 - accuracy: 0.8542 - val_loss: 0.4023 - val_accuracy: 0.8648\n",
            "Epoch 5/40\n",
            "1719/1719 [==============================] - 7s 4ms/step - loss: 0.3971 - accuracy: 0.8598 - val_loss: 0.3905 - val_accuracy: 0.8592\n",
            "Epoch 6/40\n",
            "1719/1719 [==============================] - 7s 4ms/step - loss: 0.3801 - accuracy: 0.8661 - val_loss: 0.3766 - val_accuracy: 0.8722\n",
            "Epoch 7/40\n",
            "1719/1719 [==============================] - 7s 4ms/step - loss: 0.3658 - accuracy: 0.8703 - val_loss: 0.3648 - val_accuracy: 0.8734\n",
            "Epoch 8/40\n",
            "1719/1719 [==============================] - 7s 4ms/step - loss: 0.3537 - accuracy: 0.8751 - val_loss: 0.3595 - val_accuracy: 0.8726\n",
            "Epoch 9/40\n",
            "1719/1719 [==============================] - 7s 4ms/step - loss: 0.3434 - accuracy: 0.8770 - val_loss: 0.3528 - val_accuracy: 0.8786\n",
            "Epoch 10/40\n",
            "1719/1719 [==============================] - 8s 5ms/step - loss: 0.3339 - accuracy: 0.8811 - val_loss: 0.3534 - val_accuracy: 0.8774\n",
            "Epoch 11/40\n",
            "1719/1719 [==============================] - 7s 4ms/step - loss: 0.3243 - accuracy: 0.8848 - val_loss: 0.3409 - val_accuracy: 0.8798\n",
            "Epoch 12/40\n",
            "1719/1719 [==============================] - 6s 4ms/step - loss: 0.3165 - accuracy: 0.8873 - val_loss: 0.3349 - val_accuracy: 0.8810\n",
            "Epoch 13/40\n",
            "1719/1719 [==============================] - 6s 4ms/step - loss: 0.3089 - accuracy: 0.8899 - val_loss: 0.3706 - val_accuracy: 0.8594\n",
            "Epoch 14/40\n",
            "1719/1719 [==============================] - 6s 4ms/step - loss: 0.3023 - accuracy: 0.8910 - val_loss: 0.3410 - val_accuracy: 0.8800\n",
            "Epoch 15/40\n",
            "1719/1719 [==============================] - 7s 4ms/step - loss: 0.2959 - accuracy: 0.8935 - val_loss: 0.3204 - val_accuracy: 0.8858\n",
            "Epoch 16/40\n",
            "1719/1719 [==============================] - 6s 4ms/step - loss: 0.2891 - accuracy: 0.8955 - val_loss: 0.3653 - val_accuracy: 0.8680\n",
            "Epoch 17/40\n",
            "1719/1719 [==============================] - 6s 3ms/step - loss: 0.2828 - accuracy: 0.8975 - val_loss: 0.3151 - val_accuracy: 0.8862\n",
            "Epoch 18/40\n",
            "1719/1719 [==============================] - 6s 3ms/step - loss: 0.2781 - accuracy: 0.8991 - val_loss: 0.3188 - val_accuracy: 0.8868\n",
            "Epoch 19/40\n",
            "1719/1719 [==============================] - 7s 4ms/step - loss: 0.2733 - accuracy: 0.9014 - val_loss: 0.3053 - val_accuracy: 0.8914\n",
            "Epoch 20/40\n",
            "1719/1719 [==============================] - 6s 3ms/step - loss: 0.2689 - accuracy: 0.9038 - val_loss: 0.3083 - val_accuracy: 0.8874\n",
            "Epoch 21/40\n",
            "1719/1719 [==============================] - 7s 4ms/step - loss: 0.2638 - accuracy: 0.9049 - val_loss: 0.3072 - val_accuracy: 0.8896\n",
            "Epoch 22/40\n",
            "1719/1719 [==============================] - 6s 4ms/step - loss: 0.2580 - accuracy: 0.9080 - val_loss: 0.3155 - val_accuracy: 0.8902\n",
            "Epoch 23/40\n",
            "1719/1719 [==============================] - 6s 4ms/step - loss: 0.2555 - accuracy: 0.9078 - val_loss: 0.2981 - val_accuracy: 0.8916\n",
            "Epoch 24/40\n",
            "1719/1719 [==============================] - 6s 3ms/step - loss: 0.2502 - accuracy: 0.9100 - val_loss: 0.3484 - val_accuracy: 0.8788\n",
            "Epoch 25/40\n",
            "1719/1719 [==============================] - 6s 3ms/step - loss: 0.2454 - accuracy: 0.9118 - val_loss: 0.2955 - val_accuracy: 0.8934\n",
            "Epoch 26/40\n",
            "1719/1719 [==============================] - 6s 4ms/step - loss: 0.2411 - accuracy: 0.9134 - val_loss: 0.3094 - val_accuracy: 0.8904\n",
            "Epoch 27/40\n",
            "1719/1719 [==============================] - 6s 4ms/step - loss: 0.2376 - accuracy: 0.9146 - val_loss: 0.2963 - val_accuracy: 0.8934\n",
            "Epoch 28/40\n",
            "1719/1719 [==============================] - 6s 4ms/step - loss: 0.2331 - accuracy: 0.9171 - val_loss: 0.3155 - val_accuracy: 0.8894\n",
            "Epoch 29/40\n",
            "1719/1719 [==============================] - 6s 4ms/step - loss: 0.2297 - accuracy: 0.9187 - val_loss: 0.2917 - val_accuracy: 0.8940\n",
            "Epoch 30/40\n",
            "1719/1719 [==============================] - 6s 4ms/step - loss: 0.2259 - accuracy: 0.9199 - val_loss: 0.2980 - val_accuracy: 0.8910\n",
            "Epoch 31/40\n",
            "1719/1719 [==============================] - 6s 4ms/step - loss: 0.2233 - accuracy: 0.9200 - val_loss: 0.2909 - val_accuracy: 0.8956\n",
            "Epoch 32/40\n",
            "1719/1719 [==============================] - 6s 4ms/step - loss: 0.2186 - accuracy: 0.9224 - val_loss: 0.2976 - val_accuracy: 0.8962\n",
            "Epoch 33/40\n",
            "1719/1719 [==============================] - 6s 3ms/step - loss: 0.2164 - accuracy: 0.9227 - val_loss: 0.2887 - val_accuracy: 0.8954\n",
            "Epoch 34/40\n",
            "1719/1719 [==============================] - 6s 4ms/step - loss: 0.2131 - accuracy: 0.9227 - val_loss: 0.2963 - val_accuracy: 0.8916\n",
            "Epoch 35/40\n",
            "1719/1719 [==============================] - 6s 3ms/step - loss: 0.2091 - accuracy: 0.9255 - val_loss: 0.3001 - val_accuracy: 0.8926\n",
            "Epoch 36/40\n",
            "1719/1719 [==============================] - 6s 4ms/step - loss: 0.2048 - accuracy: 0.9265 - val_loss: 0.3146 - val_accuracy: 0.8914\n",
            "Epoch 37/40\n",
            "1719/1719 [==============================] - 6s 4ms/step - loss: 0.2028 - accuracy: 0.9287 - val_loss: 0.3003 - val_accuracy: 0.8938\n",
            "Epoch 38/40\n",
            "1719/1719 [==============================] - 6s 3ms/step - loss: 0.1993 - accuracy: 0.9295 - val_loss: 0.2904 - val_accuracy: 0.8964\n",
            "Epoch 39/40\n",
            "1719/1719 [==============================] - 6s 4ms/step - loss: 0.1956 - accuracy: 0.9294 - val_loss: 0.2817 - val_accuracy: 0.8998\n",
            "Epoch 40/40\n",
            "1719/1719 [==============================] - 6s 4ms/step - loss: 0.1935 - accuracy: 0.9312 - val_loss: 0.2970 - val_accuracy: 0.8896\n",
            "**************************************************************\n",
            "Epoch 1/60\n",
            "1719/1719 [==============================] - 7s 4ms/step - loss: 0.7033 - accuracy: 0.7668 - val_loss: 0.5237 - val_accuracy: 0.8168\n",
            "Epoch 2/60\n",
            "1719/1719 [==============================] - 6s 3ms/step - loss: 0.4850 - accuracy: 0.8299 - val_loss: 0.4416 - val_accuracy: 0.8504\n",
            "Epoch 3/60\n",
            "1719/1719 [==============================] - 6s 4ms/step - loss: 0.4405 - accuracy: 0.8443 - val_loss: 0.4309 - val_accuracy: 0.8532\n",
            "Epoch 4/60\n",
            "1719/1719 [==============================] - 6s 4ms/step - loss: 0.4147 - accuracy: 0.8539 - val_loss: 0.4015 - val_accuracy: 0.8614\n",
            "Epoch 5/60\n",
            "1719/1719 [==============================] - 6s 4ms/step - loss: 0.3927 - accuracy: 0.8617 - val_loss: 0.4052 - val_accuracy: 0.8538\n",
            "Epoch 6/60\n",
            "1719/1719 [==============================] - 6s 4ms/step - loss: 0.3803 - accuracy: 0.8657 - val_loss: 0.3679 - val_accuracy: 0.8690\n",
            "Epoch 7/60\n",
            "1719/1719 [==============================] - 6s 4ms/step - loss: 0.3661 - accuracy: 0.8704 - val_loss: 0.3841 - val_accuracy: 0.8636\n",
            "Epoch 8/60\n",
            "1719/1719 [==============================] - 6s 3ms/step - loss: 0.3544 - accuracy: 0.8742 - val_loss: 0.3569 - val_accuracy: 0.8726\n",
            "Epoch 9/60\n",
            "1719/1719 [==============================] - 6s 4ms/step - loss: 0.3437 - accuracy: 0.8768 - val_loss: 0.3647 - val_accuracy: 0.8652\n",
            "Epoch 10/60\n",
            "1719/1719 [==============================] - 6s 4ms/step - loss: 0.3350 - accuracy: 0.8814 - val_loss: 0.3481 - val_accuracy: 0.8776\n",
            "Epoch 11/60\n",
            "1719/1719 [==============================] - 6s 3ms/step - loss: 0.3273 - accuracy: 0.8823 - val_loss: 0.3473 - val_accuracy: 0.8762\n",
            "Epoch 12/60\n",
            "1719/1719 [==============================] - 6s 3ms/step - loss: 0.3190 - accuracy: 0.8843 - val_loss: 0.3420 - val_accuracy: 0.8808\n",
            "Epoch 13/60\n",
            "1719/1719 [==============================] - 6s 3ms/step - loss: 0.3125 - accuracy: 0.8875 - val_loss: 0.3576 - val_accuracy: 0.8698\n",
            "Epoch 14/60\n",
            "1719/1719 [==============================] - 6s 4ms/step - loss: 0.3055 - accuracy: 0.8896 - val_loss: 0.3356 - val_accuracy: 0.8830\n",
            "Epoch 15/60\n",
            "1719/1719 [==============================] - 6s 4ms/step - loss: 0.2991 - accuracy: 0.8930 - val_loss: 0.3297 - val_accuracy: 0.8838\n",
            "Epoch 16/60\n",
            "1719/1719 [==============================] - 6s 4ms/step - loss: 0.2923 - accuracy: 0.8955 - val_loss: 0.3175 - val_accuracy: 0.8856\n",
            "Epoch 17/60\n",
            "1719/1719 [==============================] - 6s 3ms/step - loss: 0.2864 - accuracy: 0.8963 - val_loss: 0.3276 - val_accuracy: 0.8832\n",
            "Epoch 18/60\n",
            "1719/1719 [==============================] - 6s 3ms/step - loss: 0.2808 - accuracy: 0.8991 - val_loss: 0.3202 - val_accuracy: 0.8858\n",
            "Epoch 19/60\n",
            "1719/1719 [==============================] - 6s 3ms/step - loss: 0.2758 - accuracy: 0.9003 - val_loss: 0.3110 - val_accuracy: 0.8906\n",
            "Epoch 20/60\n",
            "1719/1719 [==============================] - 6s 4ms/step - loss: 0.2708 - accuracy: 0.9028 - val_loss: 0.3102 - val_accuracy: 0.8892\n",
            "Epoch 21/60\n",
            "1719/1719 [==============================] - 6s 4ms/step - loss: 0.2664 - accuracy: 0.9038 - val_loss: 0.3135 - val_accuracy: 0.8880\n",
            "Epoch 22/60\n",
            "1719/1719 [==============================] - 6s 4ms/step - loss: 0.2619 - accuracy: 0.9046 - val_loss: 0.3118 - val_accuracy: 0.8898\n",
            "Epoch 23/60\n",
            "1719/1719 [==============================] - 6s 4ms/step - loss: 0.2560 - accuracy: 0.9079 - val_loss: 0.3142 - val_accuracy: 0.8830\n",
            "Epoch 24/60\n",
            "1719/1719 [==============================] - 6s 3ms/step - loss: 0.2527 - accuracy: 0.9085 - val_loss: 0.3142 - val_accuracy: 0.8862\n",
            "Epoch 25/60\n",
            "1719/1719 [==============================] - 6s 4ms/step - loss: 0.2472 - accuracy: 0.9106 - val_loss: 0.3015 - val_accuracy: 0.8928\n",
            "Epoch 26/60\n",
            "1719/1719 [==============================] - 6s 3ms/step - loss: 0.2445 - accuracy: 0.9121 - val_loss: 0.3066 - val_accuracy: 0.8918\n",
            "Epoch 27/60\n",
            "1719/1719 [==============================] - 6s 4ms/step - loss: 0.2405 - accuracy: 0.9134 - val_loss: 0.3057 - val_accuracy: 0.8870\n",
            "Epoch 28/60\n",
            "1719/1719 [==============================] - 6s 4ms/step - loss: 0.2358 - accuracy: 0.9154 - val_loss: 0.3013 - val_accuracy: 0.8962\n",
            "Epoch 29/60\n",
            "1719/1719 [==============================] - 6s 3ms/step - loss: 0.2330 - accuracy: 0.9163 - val_loss: 0.3102 - val_accuracy: 0.8892\n",
            "Epoch 30/60\n",
            "1719/1719 [==============================] - 6s 3ms/step - loss: 0.2284 - accuracy: 0.9188 - val_loss: 0.2967 - val_accuracy: 0.8948\n",
            "Epoch 31/60\n",
            "1719/1719 [==============================] - 6s 4ms/step - loss: 0.2252 - accuracy: 0.9188 - val_loss: 0.3138 - val_accuracy: 0.8878\n",
            "Epoch 32/60\n",
            "1719/1719 [==============================] - 6s 3ms/step - loss: 0.2214 - accuracy: 0.9195 - val_loss: 0.3002 - val_accuracy: 0.8928\n",
            "Epoch 33/60\n",
            "1719/1719 [==============================] - 6s 3ms/step - loss: 0.2180 - accuracy: 0.9205 - val_loss: 0.3190 - val_accuracy: 0.8878\n",
            "Epoch 34/60\n",
            "1719/1719 [==============================] - 6s 3ms/step - loss: 0.2143 - accuracy: 0.9230 - val_loss: 0.2959 - val_accuracy: 0.8954\n",
            "Epoch 35/60\n",
            "1719/1719 [==============================] - 6s 3ms/step - loss: 0.2129 - accuracy: 0.9227 - val_loss: 0.2927 - val_accuracy: 0.8940\n",
            "Epoch 36/60\n",
            "1719/1719 [==============================] - 6s 3ms/step - loss: 0.2088 - accuracy: 0.9257 - val_loss: 0.2985 - val_accuracy: 0.8904\n",
            "Epoch 37/60\n",
            "1719/1719 [==============================] - 6s 4ms/step - loss: 0.2045 - accuracy: 0.9269 - val_loss: 0.3108 - val_accuracy: 0.8884\n",
            "Epoch 38/60\n",
            "1719/1719 [==============================] - 6s 4ms/step - loss: 0.2016 - accuracy: 0.9268 - val_loss: 0.3025 - val_accuracy: 0.8932\n",
            "Epoch 39/60\n",
            "1719/1719 [==============================] - 6s 3ms/step - loss: 0.1982 - accuracy: 0.9290 - val_loss: 0.2982 - val_accuracy: 0.8928\n",
            "Epoch 40/60\n",
            "1719/1719 [==============================] - 6s 3ms/step - loss: 0.1949 - accuracy: 0.9294 - val_loss: 0.3016 - val_accuracy: 0.8954\n",
            "Epoch 41/60\n",
            "1719/1719 [==============================] - 6s 4ms/step - loss: 0.1932 - accuracy: 0.9311 - val_loss: 0.2949 - val_accuracy: 0.8976\n",
            "Epoch 42/60\n",
            "1719/1719 [==============================] - 6s 4ms/step - loss: 0.1905 - accuracy: 0.9321 - val_loss: 0.3021 - val_accuracy: 0.8978\n",
            "Epoch 43/60\n",
            "1719/1719 [==============================] - 6s 4ms/step - loss: 0.1869 - accuracy: 0.9330 - val_loss: 0.3012 - val_accuracy: 0.8892\n",
            "Epoch 44/60\n",
            "1719/1719 [==============================] - 6s 4ms/step - loss: 0.1847 - accuracy: 0.9345 - val_loss: 0.2937 - val_accuracy: 0.8944\n",
            "Epoch 45/60\n",
            "1719/1719 [==============================] - 6s 3ms/step - loss: 0.1804 - accuracy: 0.9357 - val_loss: 0.2902 - val_accuracy: 0.8952\n",
            "Epoch 46/60\n",
            "1719/1719 [==============================] - 6s 4ms/step - loss: 0.1789 - accuracy: 0.9354 - val_loss: 0.2986 - val_accuracy: 0.8952\n",
            "Epoch 47/60\n",
            "1719/1719 [==============================] - 6s 3ms/step - loss: 0.1759 - accuracy: 0.9371 - val_loss: 0.2964 - val_accuracy: 0.8970\n",
            "Epoch 48/60\n",
            "1719/1719 [==============================] - 6s 4ms/step - loss: 0.1734 - accuracy: 0.9378 - val_loss: 0.3005 - val_accuracy: 0.8980\n",
            "Epoch 49/60\n",
            "1719/1719 [==============================] - 6s 4ms/step - loss: 0.1697 - accuracy: 0.9399 - val_loss: 0.3063 - val_accuracy: 0.8920\n",
            "Epoch 50/60\n",
            "1719/1719 [==============================] - 6s 3ms/step - loss: 0.1666 - accuracy: 0.9406 - val_loss: 0.2947 - val_accuracy: 0.8990\n",
            "Epoch 51/60\n",
            "1719/1719 [==============================] - 6s 3ms/step - loss: 0.1647 - accuracy: 0.9423 - val_loss: 0.3144 - val_accuracy: 0.8960\n",
            "Epoch 52/60\n",
            "1719/1719 [==============================] - 6s 3ms/step - loss: 0.1610 - accuracy: 0.9428 - val_loss: 0.2948 - val_accuracy: 0.8962\n",
            "Epoch 53/60\n",
            "1719/1719 [==============================] - 6s 4ms/step - loss: 0.1599 - accuracy: 0.9436 - val_loss: 0.2898 - val_accuracy: 0.8984\n",
            "Epoch 54/60\n",
            "1719/1719 [==============================] - 6s 4ms/step - loss: 0.1574 - accuracy: 0.9439 - val_loss: 0.3012 - val_accuracy: 0.8926\n",
            "Epoch 55/60\n",
            "1719/1719 [==============================] - 6s 3ms/step - loss: 0.1541 - accuracy: 0.9461 - val_loss: 0.3066 - val_accuracy: 0.8984\n",
            "Epoch 56/60\n",
            "1719/1719 [==============================] - 6s 4ms/step - loss: 0.1521 - accuracy: 0.9456 - val_loss: 0.2960 - val_accuracy: 0.9010\n",
            "Epoch 57/60\n",
            "1719/1719 [==============================] - 6s 3ms/step - loss: 0.1489 - accuracy: 0.9474 - val_loss: 0.3197 - val_accuracy: 0.8932\n",
            "Epoch 58/60\n",
            "1719/1719 [==============================] - 6s 3ms/step - loss: 0.1472 - accuracy: 0.9481 - val_loss: 0.3203 - val_accuracy: 0.8904\n",
            "Epoch 59/60\n",
            "1719/1719 [==============================] - 6s 3ms/step - loss: 0.1459 - accuracy: 0.9483 - val_loss: 0.3031 - val_accuracy: 0.8978\n",
            "Epoch 60/60\n",
            "1719/1719 [==============================] - 6s 4ms/step - loss: 0.1424 - accuracy: 0.9497 - val_loss: 0.3381 - val_accuracy: 0.8910\n",
            "**************************************************************\n",
            "Epoch 1/80\n",
            "1719/1719 [==============================] - 7s 4ms/step - loss: 0.7236 - accuracy: 0.7632 - val_loss: 0.5065 - val_accuracy: 0.8250\n",
            "Epoch 2/80\n",
            "1719/1719 [==============================] - 6s 3ms/step - loss: 0.4869 - accuracy: 0.8312 - val_loss: 0.4710 - val_accuracy: 0.8332\n",
            "Epoch 3/80\n",
            "1719/1719 [==============================] - 6s 3ms/step - loss: 0.4426 - accuracy: 0.8442 - val_loss: 0.4208 - val_accuracy: 0.8570\n",
            "Epoch 4/80\n",
            "1719/1719 [==============================] - 7s 4ms/step - loss: 0.4145 - accuracy: 0.8540 - val_loss: 0.3984 - val_accuracy: 0.8640\n",
            "Epoch 5/80\n",
            "1719/1719 [==============================] - 6s 4ms/step - loss: 0.3942 - accuracy: 0.8611 - val_loss: 0.3854 - val_accuracy: 0.8686\n",
            "Epoch 6/80\n",
            "1719/1719 [==============================] - 7s 4ms/step - loss: 0.3781 - accuracy: 0.8662 - val_loss: 0.3719 - val_accuracy: 0.8696\n",
            "Epoch 7/80\n",
            "1719/1719 [==============================] - 6s 4ms/step - loss: 0.3640 - accuracy: 0.8714 - val_loss: 0.3593 - val_accuracy: 0.8754\n",
            "Epoch 8/80\n",
            "1719/1719 [==============================] - 6s 4ms/step - loss: 0.3535 - accuracy: 0.8752 - val_loss: 0.3532 - val_accuracy: 0.8776\n",
            "Epoch 9/80\n",
            "1719/1719 [==============================] - 6s 4ms/step - loss: 0.3432 - accuracy: 0.8776 - val_loss: 0.3573 - val_accuracy: 0.8742\n",
            "Epoch 10/80\n",
            "1719/1719 [==============================] - 6s 4ms/step - loss: 0.3335 - accuracy: 0.8806 - val_loss: 0.3402 - val_accuracy: 0.8810\n",
            "Epoch 11/80\n",
            "1719/1719 [==============================] - 6s 4ms/step - loss: 0.3260 - accuracy: 0.8826 - val_loss: 0.3454 - val_accuracy: 0.8786\n",
            "Epoch 12/80\n",
            "1719/1719 [==============================] - 6s 4ms/step - loss: 0.3173 - accuracy: 0.8859 - val_loss: 0.3296 - val_accuracy: 0.8832\n",
            "Epoch 13/80\n",
            "1719/1719 [==============================] - 6s 4ms/step - loss: 0.3097 - accuracy: 0.8884 - val_loss: 0.3437 - val_accuracy: 0.8814\n",
            "Epoch 14/80\n",
            "1719/1719 [==============================] - 6s 4ms/step - loss: 0.3032 - accuracy: 0.8901 - val_loss: 0.3265 - val_accuracy: 0.8840\n",
            "Epoch 15/80\n",
            "1719/1719 [==============================] - 6s 4ms/step - loss: 0.2969 - accuracy: 0.8919 - val_loss: 0.3201 - val_accuracy: 0.8878\n",
            "Epoch 16/80\n",
            "1719/1719 [==============================] - 6s 4ms/step - loss: 0.2916 - accuracy: 0.8948 - val_loss: 0.3141 - val_accuracy: 0.8886\n",
            "Epoch 17/80\n",
            "1719/1719 [==============================] - 6s 4ms/step - loss: 0.2858 - accuracy: 0.8981 - val_loss: 0.3137 - val_accuracy: 0.8894\n",
            "Epoch 18/80\n",
            "1719/1719 [==============================] - 6s 4ms/step - loss: 0.2797 - accuracy: 0.8991 - val_loss: 0.3275 - val_accuracy: 0.8864\n",
            "Epoch 19/80\n",
            "1719/1719 [==============================] - 6s 4ms/step - loss: 0.2745 - accuracy: 0.9016 - val_loss: 0.3092 - val_accuracy: 0.8930\n",
            "Epoch 20/80\n",
            "1719/1719 [==============================] - 6s 4ms/step - loss: 0.2698 - accuracy: 0.9031 - val_loss: 0.3131 - val_accuracy: 0.8888\n",
            "Epoch 21/80\n",
            "1719/1719 [==============================] - 6s 4ms/step - loss: 0.2652 - accuracy: 0.9051 - val_loss: 0.3111 - val_accuracy: 0.8916\n",
            "Epoch 22/80\n",
            "1719/1719 [==============================] - 6s 4ms/step - loss: 0.2605 - accuracy: 0.9052 - val_loss: 0.3372 - val_accuracy: 0.8850\n",
            "Epoch 23/80\n",
            "1719/1719 [==============================] - 6s 4ms/step - loss: 0.2556 - accuracy: 0.9076 - val_loss: 0.3058 - val_accuracy: 0.8932\n",
            "Epoch 24/80\n",
            "1719/1719 [==============================] - 6s 4ms/step - loss: 0.2502 - accuracy: 0.9092 - val_loss: 0.3046 - val_accuracy: 0.8942\n",
            "Epoch 25/80\n",
            "1719/1719 [==============================] - 6s 4ms/step - loss: 0.2473 - accuracy: 0.9107 - val_loss: 0.3119 - val_accuracy: 0.8888\n",
            "Epoch 26/80\n",
            "1719/1719 [==============================] - 6s 4ms/step - loss: 0.2430 - accuracy: 0.9120 - val_loss: 0.3219 - val_accuracy: 0.8870\n",
            "Epoch 27/80\n",
            "1719/1719 [==============================] - 6s 4ms/step - loss: 0.2384 - accuracy: 0.9149 - val_loss: 0.3051 - val_accuracy: 0.8866\n",
            "Epoch 28/80\n",
            "1719/1719 [==============================] - 6s 3ms/step - loss: 0.2349 - accuracy: 0.9153 - val_loss: 0.3169 - val_accuracy: 0.8940\n",
            "Epoch 29/80\n",
            "1719/1719 [==============================] - 6s 3ms/step - loss: 0.2313 - accuracy: 0.9175 - val_loss: 0.2984 - val_accuracy: 0.8962\n",
            "Epoch 30/80\n",
            "1719/1719 [==============================] - 6s 3ms/step - loss: 0.2276 - accuracy: 0.9181 - val_loss: 0.2937 - val_accuracy: 0.8944\n",
            "Epoch 31/80\n",
            "1719/1719 [==============================] - 6s 3ms/step - loss: 0.2240 - accuracy: 0.9191 - val_loss: 0.3179 - val_accuracy: 0.8886\n",
            "Epoch 32/80\n",
            "1719/1719 [==============================] - 6s 4ms/step - loss: 0.2203 - accuracy: 0.9198 - val_loss: 0.2946 - val_accuracy: 0.8988\n",
            "Epoch 33/80\n",
            "1719/1719 [==============================] - 6s 3ms/step - loss: 0.2167 - accuracy: 0.9226 - val_loss: 0.3032 - val_accuracy: 0.8942\n",
            "Epoch 34/80\n",
            "1719/1719 [==============================] - 6s 4ms/step - loss: 0.2141 - accuracy: 0.9226 - val_loss: 0.3016 - val_accuracy: 0.8938\n",
            "Epoch 35/80\n",
            "1719/1719 [==============================] - 6s 4ms/step - loss: 0.2105 - accuracy: 0.9253 - val_loss: 0.3196 - val_accuracy: 0.8908\n",
            "Epoch 36/80\n",
            "1719/1719 [==============================] - 6s 4ms/step - loss: 0.2069 - accuracy: 0.9253 - val_loss: 0.2973 - val_accuracy: 0.8970\n",
            "Epoch 37/80\n",
            "1719/1719 [==============================] - 6s 4ms/step - loss: 0.2046 - accuracy: 0.9275 - val_loss: 0.2886 - val_accuracy: 0.8976\n",
            "Epoch 38/80\n",
            "1719/1719 [==============================] - 6s 4ms/step - loss: 0.2010 - accuracy: 0.9284 - val_loss: 0.2974 - val_accuracy: 0.8942\n",
            "Epoch 39/80\n",
            "1719/1719 [==============================] - 6s 3ms/step - loss: 0.1988 - accuracy: 0.9284 - val_loss: 0.3098 - val_accuracy: 0.8978\n",
            "Epoch 40/80\n",
            "1719/1719 [==============================] - 6s 3ms/step - loss: 0.1948 - accuracy: 0.9304 - val_loss: 0.3063 - val_accuracy: 0.8926\n",
            "Epoch 41/80\n",
            "1719/1719 [==============================] - 6s 3ms/step - loss: 0.1921 - accuracy: 0.9318 - val_loss: 0.2992 - val_accuracy: 0.8944\n",
            "Epoch 42/80\n",
            "1719/1719 [==============================] - 6s 3ms/step - loss: 0.1884 - accuracy: 0.9324 - val_loss: 0.3093 - val_accuracy: 0.8934\n",
            "Epoch 43/80\n",
            "1719/1719 [==============================] - 6s 3ms/step - loss: 0.1858 - accuracy: 0.9334 - val_loss: 0.3085 - val_accuracy: 0.8940\n",
            "Epoch 44/80\n",
            "1719/1719 [==============================] - 6s 4ms/step - loss: 0.1816 - accuracy: 0.9353 - val_loss: 0.2973 - val_accuracy: 0.8970\n",
            "Epoch 45/80\n",
            "1719/1719 [==============================] - 6s 4ms/step - loss: 0.1805 - accuracy: 0.9358 - val_loss: 0.2964 - val_accuracy: 0.9010\n",
            "Epoch 46/80\n",
            "1719/1719 [==============================] - 6s 4ms/step - loss: 0.1767 - accuracy: 0.9372 - val_loss: 0.3027 - val_accuracy: 0.8936\n",
            "Epoch 47/80\n",
            "1719/1719 [==============================] - 6s 4ms/step - loss: 0.1754 - accuracy: 0.9383 - val_loss: 0.2924 - val_accuracy: 0.8988\n",
            "Epoch 48/80\n",
            "1719/1719 [==============================] - 6s 4ms/step - loss: 0.1727 - accuracy: 0.9395 - val_loss: 0.2925 - val_accuracy: 0.9014\n",
            "Epoch 49/80\n",
            "1719/1719 [==============================] - 6s 4ms/step - loss: 0.1681 - accuracy: 0.9401 - val_loss: 0.3015 - val_accuracy: 0.9016\n",
            "Epoch 50/80\n",
            "1719/1719 [==============================] - 6s 4ms/step - loss: 0.1671 - accuracy: 0.9411 - val_loss: 0.3002 - val_accuracy: 0.8968\n",
            "Epoch 51/80\n",
            "1719/1719 [==============================] - 6s 4ms/step - loss: 0.1649 - accuracy: 0.9418 - val_loss: 0.2918 - val_accuracy: 0.8986\n",
            "Epoch 52/80\n",
            "1719/1719 [==============================] - 6s 4ms/step - loss: 0.1610 - accuracy: 0.9424 - val_loss: 0.3125 - val_accuracy: 0.8958\n",
            "Epoch 53/80\n",
            "1719/1719 [==============================] - 6s 4ms/step - loss: 0.1587 - accuracy: 0.9430 - val_loss: 0.3034 - val_accuracy: 0.9032\n",
            "Epoch 54/80\n",
            "1719/1719 [==============================] - 6s 3ms/step - loss: 0.1567 - accuracy: 0.9448 - val_loss: 0.3065 - val_accuracy: 0.8956\n",
            "Epoch 55/80\n",
            "1719/1719 [==============================] - 6s 4ms/step - loss: 0.1531 - accuracy: 0.9461 - val_loss: 0.2985 - val_accuracy: 0.8972\n",
            "Epoch 56/80\n",
            "1719/1719 [==============================] - 6s 4ms/step - loss: 0.1520 - accuracy: 0.9464 - val_loss: 0.3040 - val_accuracy: 0.9008\n",
            "Epoch 57/80\n",
            "1719/1719 [==============================] - 6s 4ms/step - loss: 0.1494 - accuracy: 0.9468 - val_loss: 0.2994 - val_accuracy: 0.8970\n",
            "Epoch 58/80\n",
            "1719/1719 [==============================] - 6s 4ms/step - loss: 0.1471 - accuracy: 0.9481 - val_loss: 0.3271 - val_accuracy: 0.8952\n",
            "Epoch 59/80\n",
            "1719/1719 [==============================] - 6s 4ms/step - loss: 0.1453 - accuracy: 0.9486 - val_loss: 0.3030 - val_accuracy: 0.8974\n",
            "Epoch 60/80\n",
            "1719/1719 [==============================] - 6s 4ms/step - loss: 0.1429 - accuracy: 0.9500 - val_loss: 0.3000 - val_accuracy: 0.9020\n",
            "Epoch 61/80\n",
            "1719/1719 [==============================] - 6s 3ms/step - loss: 0.1408 - accuracy: 0.9501 - val_loss: 0.3454 - val_accuracy: 0.8916\n",
            "Epoch 62/80\n",
            "1719/1719 [==============================] - 6s 4ms/step - loss: 0.1396 - accuracy: 0.9498 - val_loss: 0.3058 - val_accuracy: 0.9010\n",
            "Epoch 63/80\n",
            "1719/1719 [==============================] - 6s 4ms/step - loss: 0.1368 - accuracy: 0.9515 - val_loss: 0.3138 - val_accuracy: 0.8988\n",
            "Epoch 64/80\n",
            "1719/1719 [==============================] - 6s 4ms/step - loss: 0.1344 - accuracy: 0.9517 - val_loss: 0.3062 - val_accuracy: 0.9014\n",
            "Epoch 65/80\n",
            "1719/1719 [==============================] - 6s 4ms/step - loss: 0.1316 - accuracy: 0.9536 - val_loss: 0.3070 - val_accuracy: 0.9016\n",
            "Epoch 66/80\n",
            "1719/1719 [==============================] - 6s 4ms/step - loss: 0.1293 - accuracy: 0.9537 - val_loss: 0.3059 - val_accuracy: 0.9030\n",
            "Epoch 67/80\n",
            "1719/1719 [==============================] - 6s 4ms/step - loss: 0.1271 - accuracy: 0.9558 - val_loss: 0.3071 - val_accuracy: 0.9024\n",
            "Epoch 68/80\n",
            "1719/1719 [==============================] - 6s 4ms/step - loss: 0.1254 - accuracy: 0.9555 - val_loss: 0.3075 - val_accuracy: 0.9030\n",
            "Epoch 69/80\n",
            "1719/1719 [==============================] - 6s 3ms/step - loss: 0.1246 - accuracy: 0.9559 - val_loss: 0.3695 - val_accuracy: 0.8766\n",
            "Epoch 70/80\n",
            "1719/1719 [==============================] - 6s 3ms/step - loss: 0.1217 - accuracy: 0.9565 - val_loss: 0.3124 - val_accuracy: 0.9000\n",
            "Epoch 71/80\n",
            "1719/1719 [==============================] - 6s 3ms/step - loss: 0.1197 - accuracy: 0.9583 - val_loss: 0.3364 - val_accuracy: 0.8932\n",
            "Epoch 72/80\n",
            "1719/1719 [==============================] - 6s 4ms/step - loss: 0.1170 - accuracy: 0.9595 - val_loss: 0.3014 - val_accuracy: 0.9018\n",
            "Epoch 73/80\n",
            "1719/1719 [==============================] - 6s 4ms/step - loss: 0.1164 - accuracy: 0.9590 - val_loss: 0.3161 - val_accuracy: 0.8986\n",
            "Epoch 74/80\n",
            "1719/1719 [==============================] - 6s 3ms/step - loss: 0.1149 - accuracy: 0.9600 - val_loss: 0.3152 - val_accuracy: 0.9042\n",
            "Epoch 75/80\n",
            "1719/1719 [==============================] - 6s 3ms/step - loss: 0.1137 - accuracy: 0.9599 - val_loss: 0.3263 - val_accuracy: 0.9044\n",
            "Epoch 76/80\n",
            "1719/1719 [==============================] - 6s 4ms/step - loss: 0.1109 - accuracy: 0.9622 - val_loss: 0.3396 - val_accuracy: 0.8958\n",
            "Epoch 77/80\n",
            "1719/1719 [==============================] - 6s 4ms/step - loss: 0.1080 - accuracy: 0.9618 - val_loss: 0.3273 - val_accuracy: 0.9018\n",
            "Epoch 78/80\n",
            "1719/1719 [==============================] - 6s 4ms/step - loss: 0.1071 - accuracy: 0.9625 - val_loss: 0.3255 - val_accuracy: 0.8980\n",
            "Epoch 79/80\n",
            "1719/1719 [==============================] - 6s 3ms/step - loss: 0.1065 - accuracy: 0.9620 - val_loss: 0.3229 - val_accuracy: 0.9010\n",
            "Epoch 80/80\n",
            "1719/1719 [==============================] - 6s 4ms/step - loss: 0.1034 - accuracy: 0.9633 - val_loss: 0.3337 - val_accuracy: 0.8976\n",
            "**************************************************************\n"
          ]
        }
      ]
    },
    {
      "cell_type": "code",
      "source": [
        "fig = plt.figure(figsize = (24,8))\n",
        "fig.subplots_adjust(hspace=0.4, wspace=0.4)\n",
        "for i in range(1, 4):\n",
        "    ax = fig.add_subplot(1, 3, i)\n",
        "    ax.plot(pd.DataFrame(list_history[i-1].history))\n",
        "    size = 40 + (i-1)*20\n",
        "    plt.title(\"epochs number = \" + str(size))\n",
        "    plt.grid(True)\n",
        "    plt.gca().set_ylim(0, 1)\n",
        "plt.show()"
      ],
      "metadata": {
        "id": "lxJFga5Vgg6C",
        "outputId": "cba10b4a-8509-4c4e-af05-6705b516fa98",
        "colab": {
          "base_uri": "https://localhost:8080/",
          "height": 502
        }
      },
      "execution_count": 65,
      "outputs": [
        {
          "output_type": "display_data",
          "data": {
            "text/plain": [
              "<Figure size 1728x576 with 3 Axes>"
            ],
            "image/png": "[encoded data removed]"
          },
          "metadata": {
            "needs_background": "light"
          }
        }
      ]
    },
    {
      "cell_type": "markdown",
      "source": [
        "#### 4) Add additional neurons and use Dropout Layer. Plot Learning curves.\n"
      ],
      "metadata": {
        "id": "5SQ046NJYRRH"
      }
    },
    {
      "cell_type": "code",
      "source": [
        " model_ = keras.models.Sequential([\n",
        "    keras.layers.Flatten(input_shape=[28, 28]),\n",
        "    keras.layers.Dense(400, activation=\"relu\"),\n",
        "    keras.layers.Dropout(0.2),\n",
        "    keras.layers.Dense(200, activation=\"relu\"),\n",
        "    keras.layers.Dense(10, activation=\"softmax\")\n",
        "    ])"
      ],
      "metadata": {
        "id": "djCoP53XG0We"
      },
      "execution_count": 17,
      "outputs": []
    },
    {
      "cell_type": "code",
      "source": [
        "model_.compile(loss=\"sparse_categorical_crossentropy\",\n",
        "                  optimizer=\"sgd\",\n",
        "                  metrics=[\"accuracy\"])\n",
        "history = model_.fit(X_train, y_train, batch_size = 32 , epochs= 30,\n",
        "                        validation_data=(X_valid, y_valid))\n"
      ],
      "metadata": {
        "id": "CvLx4cPPIBbU",
        "outputId": "9781e7fa-e4a3-4663-946a-e2d17a4f8284",
        "colab": {
          "base_uri": "https://localhost:8080/"
        }
      },
      "execution_count": 20,
      "outputs": [
        {
          "output_type": "stream",
          "name": "stdout",
          "text": [
            "Epoch 1/30\n",
            "1719/1719 [==============================] - 9s 4ms/step - loss: 0.7514 - accuracy: 0.7495 - val_loss: 0.5033 - val_accuracy: 0.8296\n",
            "Epoch 2/30\n",
            "1719/1719 [==============================] - 6s 4ms/step - loss: 0.5124 - accuracy: 0.8211 - val_loss: 0.4387 - val_accuracy: 0.8526\n",
            "Epoch 3/30\n",
            "1719/1719 [==============================] - 7s 4ms/step - loss: 0.4598 - accuracy: 0.8379 - val_loss: 0.4204 - val_accuracy: 0.8520\n",
            "Epoch 4/30\n",
            "1719/1719 [==============================] - 7s 4ms/step - loss: 0.4263 - accuracy: 0.8490 - val_loss: 0.3867 - val_accuracy: 0.8676\n",
            "Epoch 5/30\n",
            "1719/1719 [==============================] - 7s 4ms/step - loss: 0.4045 - accuracy: 0.8573 - val_loss: 0.3737 - val_accuracy: 0.8694\n",
            "Epoch 6/30\n",
            "1719/1719 [==============================] - 6s 4ms/step - loss: 0.3867 - accuracy: 0.8627 - val_loss: 0.3725 - val_accuracy: 0.8700\n",
            "Epoch 7/30\n",
            "1719/1719 [==============================] - 7s 4ms/step - loss: 0.3722 - accuracy: 0.8673 - val_loss: 0.3591 - val_accuracy: 0.8736\n",
            "Epoch 8/30\n",
            "1719/1719 [==============================] - 7s 4ms/step - loss: 0.3599 - accuracy: 0.8715 - val_loss: 0.3500 - val_accuracy: 0.8756\n",
            "Epoch 9/30\n",
            "1719/1719 [==============================] - 7s 4ms/step - loss: 0.3486 - accuracy: 0.8753 - val_loss: 0.3418 - val_accuracy: 0.8812\n",
            "Epoch 10/30\n",
            "1719/1719 [==============================] - 6s 4ms/step - loss: 0.3397 - accuracy: 0.8799 - val_loss: 0.3343 - val_accuracy: 0.8830\n",
            "Epoch 11/30\n",
            "1719/1719 [==============================] - 6s 4ms/step - loss: 0.3314 - accuracy: 0.8819 - val_loss: 0.3368 - val_accuracy: 0.8814\n",
            "Epoch 12/30\n",
            "1719/1719 [==============================] - 6s 4ms/step - loss: 0.3233 - accuracy: 0.8839 - val_loss: 0.3290 - val_accuracy: 0.8806\n",
            "Epoch 13/30\n",
            "1719/1719 [==============================] - 7s 4ms/step - loss: 0.3169 - accuracy: 0.8857 - val_loss: 0.3218 - val_accuracy: 0.8854\n",
            "Epoch 14/30\n",
            "1719/1719 [==============================] - 7s 4ms/step - loss: 0.3103 - accuracy: 0.8880 - val_loss: 0.3193 - val_accuracy: 0.8840\n",
            "Epoch 15/30\n",
            "1719/1719 [==============================] - 6s 4ms/step - loss: 0.3034 - accuracy: 0.8907 - val_loss: 0.3166 - val_accuracy: 0.8854\n",
            "Epoch 16/30\n",
            "1719/1719 [==============================] - 7s 4ms/step - loss: 0.2975 - accuracy: 0.8921 - val_loss: 0.3230 - val_accuracy: 0.8850\n",
            "Epoch 17/30\n",
            "1719/1719 [==============================] - 7s 4ms/step - loss: 0.2912 - accuracy: 0.8963 - val_loss: 0.3146 - val_accuracy: 0.8866\n",
            "Epoch 18/30\n",
            "1719/1719 [==============================] - 7s 4ms/step - loss: 0.2871 - accuracy: 0.8956 - val_loss: 0.3039 - val_accuracy: 0.8912\n",
            "Epoch 19/30\n",
            "1719/1719 [==============================] - 7s 4ms/step - loss: 0.2843 - accuracy: 0.8978 - val_loss: 0.3086 - val_accuracy: 0.8908\n",
            "Epoch 20/30\n",
            "1719/1719 [==============================] - 7s 4ms/step - loss: 0.2773 - accuracy: 0.8995 - val_loss: 0.3023 - val_accuracy: 0.8928\n",
            "Epoch 21/30\n",
            "1719/1719 [==============================] - 7s 4ms/step - loss: 0.2738 - accuracy: 0.9013 - val_loss: 0.3027 - val_accuracy: 0.8922\n",
            "Epoch 22/30\n",
            "1719/1719 [==============================] - 6s 4ms/step - loss: 0.2677 - accuracy: 0.9031 - val_loss: 0.2954 - val_accuracy: 0.8964\n",
            "Epoch 23/30\n",
            "1719/1719 [==============================] - 7s 4ms/step - loss: 0.2643 - accuracy: 0.9049 - val_loss: 0.2987 - val_accuracy: 0.8902\n",
            "Epoch 24/30\n",
            "1719/1719 [==============================] - 7s 4ms/step - loss: 0.2599 - accuracy: 0.9066 - val_loss: 0.3103 - val_accuracy: 0.8932\n",
            "Epoch 25/30\n",
            "1719/1719 [==============================] - 7s 4ms/step - loss: 0.2580 - accuracy: 0.9062 - val_loss: 0.2984 - val_accuracy: 0.8940\n",
            "Epoch 26/30\n",
            "1719/1719 [==============================] - 7s 4ms/step - loss: 0.2516 - accuracy: 0.9088 - val_loss: 0.2985 - val_accuracy: 0.8948\n",
            "Epoch 27/30\n",
            "1719/1719 [==============================] - 7s 4ms/step - loss: 0.2484 - accuracy: 0.9102 - val_loss: 0.2955 - val_accuracy: 0.8906\n",
            "Epoch 28/30\n",
            "1719/1719 [==============================] - 7s 4ms/step - loss: 0.2450 - accuracy: 0.9115 - val_loss: 0.2857 - val_accuracy: 0.8964\n",
            "Epoch 29/30\n",
            "1719/1719 [==============================] - 7s 4ms/step - loss: 0.2410 - accuracy: 0.9130 - val_loss: 0.3033 - val_accuracy: 0.8902\n",
            "Epoch 30/30\n",
            "1719/1719 [==============================] - 6s 4ms/step - loss: 0.2373 - accuracy: 0.9137 - val_loss: 0.2868 - val_accuracy: 0.8960\n"
          ]
        }
      ]
    },
    {
      "cell_type": "code",
      "source": [
        "\n",
        "pd.DataFrame(history.history).plot(figsize=(8, 5))\n",
        "plt.grid(True)\n",
        "plt.gca().set_ylim(0, 1)\n",
        "plt.show()"
      ],
      "metadata": {
        "id": "nDFglb92ODSj",
        "outputId": "c817cdc8-d4d8-4fe2-dd3b-aca798ac1405",
        "colab": {
          "base_uri": "https://localhost:8080/",
          "height": 328
        }
      },
      "execution_count": 22,
      "outputs": [
        {
          "output_type": "display_data",
          "data": {
            "text/plain": [
              "<Figure size 576x360 with 1 Axes>"
            ],
            "image/png": "[encoded data removed]"
          },
          "metadata": {
            "needs_background": "light"
          }
        }
      ]
    },
    {
      "cell_type": "markdown",
      "source": [
        "#### 5) Use Batch Normalisation"
      ],
      "metadata": {
        "id": "y3nl5_RTYWe1"
      }
    },
    {
      "cell_type": "code",
      "source": [
        " model_1 = keras.models.Sequential([\n",
        "    keras.layers.Flatten(input_shape=[28, 28]),\n",
        "    keras.layers.Dense(400, activation=\"relu\"),\n",
        "    keras.layers.BatchNormalization(),\n",
        "    keras.layers.Dropout(0.2),\n",
        "    keras.layers.Dense(200, activation=\"relu\"),\n",
        "    keras.layers.Dense(10, activation=\"softmax\")\n",
        "    ])"
      ],
      "metadata": {
        "id": "kaGeB9mxPhy1"
      },
      "execution_count": 23,
      "outputs": []
    },
    {
      "cell_type": "code",
      "source": [
        "model_1.compile(loss=\"sparse_categorical_crossentropy\",\n",
        "                  optimizer=\"sgd\",\n",
        "                  metrics=[\"accuracy\"])\n",
        "history = model_1.fit(X_train, y_train, batch_size = 32 , epochs= 30,\n",
        "                        validation_data=(X_valid, y_valid))"
      ],
      "metadata": {
        "id": "rHDWuMrqPiU9",
        "outputId": "0bc79855-1522-46a2-94bc-a7914526b50f",
        "colab": {
          "base_uri": "https://localhost:8080/"
        }
      },
      "execution_count": 24,
      "outputs": [
        {
          "output_type": "stream",
          "name": "stdout",
          "text": [
            "Epoch 1/30\n",
            "1719/1719 [==============================] - 9s 5ms/step - loss: 0.5480 - accuracy: 0.8074 - val_loss: 0.3821 - val_accuracy: 0.8630\n",
            "Epoch 2/30\n",
            "1719/1719 [==============================] - 8s 4ms/step - loss: 0.4082 - accuracy: 0.8541 - val_loss: 0.3825 - val_accuracy: 0.8594\n",
            "Epoch 3/30\n",
            "1719/1719 [==============================] - 8s 5ms/step - loss: 0.3721 - accuracy: 0.8651 - val_loss: 0.3326 - val_accuracy: 0.8810\n",
            "Epoch 4/30\n",
            "1719/1719 [==============================] - 7s 4ms/step - loss: 0.3490 - accuracy: 0.8719 - val_loss: 0.3222 - val_accuracy: 0.8818\n",
            "Epoch 5/30\n",
            "1719/1719 [==============================] - 8s 4ms/step - loss: 0.3302 - accuracy: 0.8791 - val_loss: 0.3200 - val_accuracy: 0.8840\n",
            "Epoch 6/30\n",
            "1719/1719 [==============================] - 8s 4ms/step - loss: 0.3176 - accuracy: 0.8817 - val_loss: 0.3054 - val_accuracy: 0.8852\n",
            "Epoch 7/30\n",
            "1719/1719 [==============================] - 8s 4ms/step - loss: 0.3063 - accuracy: 0.8879 - val_loss: 0.3019 - val_accuracy: 0.8878\n",
            "Epoch 8/30\n",
            "1719/1719 [==============================] - 8s 5ms/step - loss: 0.2968 - accuracy: 0.8913 - val_loss: 0.2904 - val_accuracy: 0.8890\n",
            "Epoch 9/30\n",
            "1719/1719 [==============================] - 8s 5ms/step - loss: 0.2875 - accuracy: 0.8933 - val_loss: 0.3008 - val_accuracy: 0.8884\n",
            "Epoch 10/30\n",
            "1719/1719 [==============================] - 8s 4ms/step - loss: 0.2783 - accuracy: 0.8962 - val_loss: 0.3078 - val_accuracy: 0.8832\n",
            "Epoch 11/30\n",
            "1719/1719 [==============================] - 7s 4ms/step - loss: 0.2712 - accuracy: 0.9001 - val_loss: 0.3208 - val_accuracy: 0.8844\n",
            "Epoch 12/30\n",
            "1719/1719 [==============================] - 8s 5ms/step - loss: 0.2653 - accuracy: 0.9009 - val_loss: 0.2882 - val_accuracy: 0.8900\n",
            "Epoch 13/30\n",
            "1719/1719 [==============================] - 7s 4ms/step - loss: 0.2548 - accuracy: 0.9065 - val_loss: 0.3047 - val_accuracy: 0.8836\n",
            "Epoch 14/30\n",
            "1719/1719 [==============================] - 7s 4ms/step - loss: 0.2528 - accuracy: 0.9059 - val_loss: 0.2841 - val_accuracy: 0.8938\n",
            "Epoch 15/30\n",
            "1719/1719 [==============================] - 8s 4ms/step - loss: 0.2457 - accuracy: 0.9094 - val_loss: 0.3105 - val_accuracy: 0.8896\n",
            "Epoch 16/30\n",
            "1719/1719 [==============================] - 7s 4ms/step - loss: 0.2409 - accuracy: 0.9105 - val_loss: 0.2879 - val_accuracy: 0.8966\n",
            "Epoch 17/30\n",
            "1719/1719 [==============================] - 8s 4ms/step - loss: 0.2360 - accuracy: 0.9126 - val_loss: 0.2979 - val_accuracy: 0.8898\n",
            "Epoch 18/30\n",
            "1719/1719 [==============================] - 7s 4ms/step - loss: 0.2294 - accuracy: 0.9143 - val_loss: 0.2832 - val_accuracy: 0.8974\n",
            "Epoch 19/30\n",
            "1719/1719 [==============================] - 8s 4ms/step - loss: 0.2267 - accuracy: 0.9153 - val_loss: 0.2815 - val_accuracy: 0.8992\n",
            "Epoch 20/30\n",
            "1719/1719 [==============================] - 8s 4ms/step - loss: 0.2235 - accuracy: 0.9178 - val_loss: 0.2833 - val_accuracy: 0.8970\n",
            "Epoch 21/30\n",
            "1719/1719 [==============================] - 8s 4ms/step - loss: 0.2181 - accuracy: 0.9179 - val_loss: 0.2908 - val_accuracy: 0.8940\n",
            "Epoch 22/30\n",
            "1719/1719 [==============================] - 8s 4ms/step - loss: 0.2154 - accuracy: 0.9212 - val_loss: 0.2795 - val_accuracy: 0.9008\n",
            "Epoch 23/30\n",
            "1719/1719 [==============================] - 8s 5ms/step - loss: 0.2090 - accuracy: 0.9223 - val_loss: 0.2919 - val_accuracy: 0.8948\n",
            "Epoch 24/30\n",
            "1719/1719 [==============================] - 7s 4ms/step - loss: 0.2115 - accuracy: 0.9208 - val_loss: 0.2992 - val_accuracy: 0.8926\n",
            "Epoch 25/30\n",
            "1719/1719 [==============================] - 8s 4ms/step - loss: 0.2104 - accuracy: 0.9199 - val_loss: 0.2924 - val_accuracy: 0.8938\n",
            "Epoch 26/30\n",
            "1719/1719 [==============================] - 8s 5ms/step - loss: 0.2016 - accuracy: 0.9246 - val_loss: 0.2933 - val_accuracy: 0.8954\n",
            "Epoch 27/30\n",
            "1719/1719 [==============================] - 8s 4ms/step - loss: 0.1986 - accuracy: 0.9261 - val_loss: 0.2917 - val_accuracy: 0.8948\n",
            "Epoch 28/30\n",
            "1719/1719 [==============================] - 7s 4ms/step - loss: 0.1962 - accuracy: 0.9262 - val_loss: 0.2836 - val_accuracy: 0.9002\n",
            "Epoch 29/30\n",
            "1719/1719 [==============================] - 8s 4ms/step - loss: 0.1952 - accuracy: 0.9269 - val_loss: 0.2933 - val_accuracy: 0.8950\n",
            "Epoch 30/30\n",
            "1719/1719 [==============================] - 8s 4ms/step - loss: 0.1925 - accuracy: 0.9279 - val_loss: 0.2814 - val_accuracy: 0.8992\n"
          ]
        }
      ]
    },
    {
      "cell_type": "code",
      "source": [
        "pd.DataFrame(history.history).plot(figsize=(8, 5))\n",
        "plt.grid(True)\n",
        "plt.gca().set_ylim(0, 1)\n",
        "plt.show()"
      ],
      "metadata": {
        "id": "0Rk4CXmCPifB",
        "outputId": "2e397721-c70c-4c0c-bf4f-ab9bcaa717d0",
        "colab": {
          "base_uri": "https://localhost:8080/",
          "height": 328
        }
      },
      "execution_count": 25,
      "outputs": [
        {
          "output_type": "display_data",
          "data": {
            "text/plain": [
              "<Figure size 576x360 with 1 Axes>"
            ],
            "image/png": "[encoded data removed]"
          },
          "metadata": {
            "needs_background": "light"
          }
        }
      ]
    },
    {
      "cell_type": "code",
      "source": [
        ""
      ],
      "metadata": {
        "id": "0b1y06BJPitI"
      },
      "execution_count": null,
      "outputs": []
    },
    {
      "cell_type": "code",
      "source": [
        ""
      ],
      "metadata": {
        "id": "_Bpq03UVPi41"
      },
      "execution_count": null,
      "outputs": []
    }
  ],
  "metadata": {
    "kernelspec": {
      "display_name": "Python 3",
      "language": "python",
      "name": "python3"
    },
    "language_info": {
      "codemirror_mode": {
        "name": "ipython",
        "version": 3
      },
      "file_extension": ".py",
      "mimetype": "text/x-python",
      "name": "python",
      "nbconvert_exporter": "python",
      "pygments_lexer": "ipython3",
      "version": "3.6.1"
    },
    "nav_menu": {
      "height": "264px",
      "width": "369px"
    },
    "toc": {
      "navigate_menu": true,
      "number_sections": true,
      "sideBar": true,
      "threshold": 6,
      "toc_cell": false,
      "toc_section_display": "block",
      "toc_window_display": false
    },
    "colab": {
      "name": "ANN_with_keras.ipynb",
      "provenance": []
    },
    "accelerator": "GPU"
  },
  "nbformat": 4,
  "nbformat_minor": 0
}